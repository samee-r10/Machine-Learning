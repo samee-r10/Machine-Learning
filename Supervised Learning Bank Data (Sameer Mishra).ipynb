{
 "cells": [
  {
   "cell_type": "markdown",
   "metadata": {},
   "source": [
    "# Bank client data:"
   ]
  },
  {
   "cell_type": "markdown",
   "metadata": {},
   "source": [
    "**Bank client data:**  \n",
    "\n",
    "1) age (numeric)  \n",
    "2) job: type of job (categorical:\"admin.\",\"bluecollar\",\"entrepreneur\",\"housemaid\",\"management\",\"retired\",\"self-employed\",\"services\",\"student\",\"technician\",\"unemployed\",\"unknown\")  \n",
    "3) marital: marital status (categorical: \"divorced\",\"married\",\"single\",\"unknown\"; note: \"divorced\" means divorced or widowed)  \n",
    "4) education: education of individual (categorical: \"basic.4y\",\"basic.6y\",\"basic.9y\",\"high.school\",\"illiterate\",\"professional.course\",\"university.degree\",\"unknown\")\n",
    "5) default: has credit in default? (categorical: \"no\",\"yes\",\"unknown\")  \n",
    "6) housing: has housing loan? (categorical: \"no\",\"yes\",\"unknown\")\n",
    "7) loan: has personal loan? (categorical: \"no\",\"yes\",\"unknown\")\n",
    "\n",
    "### Related with the last contact of the current campaign:  \n",
    "\n",
    "8) contact: contact communication type (categorical: \"cellular\",\"telephone\")  \n",
    "9) month: last contact month of year (categorical: \"jan\", \"feb\", \"mar\", …, \"nov\", \"dec\")  \n",
    "10) dayofweek: last contact day of the week (categorical: \"mon\",\"tue\",\"wed\",\"thu\",\"fri\")  \n",
    "11) duration: last contact duration, in seconds (numeric). Important note: this attribute highly affects the output target (e.g., if duration=0 then y=\"no\"). Yet, the duration is not known before a call is performed. Also, after the end of the call y is obviously known. Thus, this input should only be included for benchmark purposes and should be discarded if the intention is to have a realistic predictive model.  \n",
    "\n",
    "**Other attributes:**\n",
    "\n",
    "12) campaign: number of contacts performed during this campaign and for this client (numeric, includes last contact)  \n",
    "13) pdays: number of days that passed by after the client was last contacted from a previous campaign (numeric; 999 means client was not previously contacted)  \n",
    "14) previous: number of contacts performed before this campaign and for this client (numeric)  \n",
    "15) poutcome: outcome of the previous marketing campaign (categorical: \"failure\",\"nonexistent\",\"success\")  \n",
    "\n",
    "**Social and economic context attributes**\n",
    "\n",
    "16) emp.var.rate: employment variation rate - quarterly indicator (numeric)\n",
    "17) cons.price.idx: consumer price index - monthly indicator (numeric)\n",
    "18) cons.conf.idx: consumer confidence index - monthly indicator (numeric)\n",
    "19) concave points_se: standard error for number of concave portions of the contour\n",
    "20) euribor3m: euribor 3 month rate - daily indicator (numeric)\n",
    "21) nr.employed: number of employees - quarterly indicator (numeric)\n",
    "Output variable (desired target):\n",
    "22) y: has the client subscribed a term deposit? (binary: \"yes\",\"no\")\n",
    "\n",
    "**Perform the following tasks:**  \n",
    "\n",
    "Q1. Perform EDA on the given data. What does the primary analysis of several categorical features reveal? 🡪5 marks  \n",
    "\n",
    "Q.2. Perform the following pre-processing tasks: 🡪10 marks  \n",
    "\n",
    "a. Missing Value Analysis  \n",
    "b. Label Encoding wherever required  \n",
    "c. Selecting important features based on Random Forest  \n",
    "d. Handling unbalanced data using SMOTE  \n",
    "e. Standardize the data using any one of the scalers provided by sklearn  \n",
    "\n",
    "Q.3. Build the following Supervised Learning models: 🡪5 marks  \n",
    "\ta. Logistic Regression  \n",
    "\tb. Decision Trees  \n",
    "\tc. Random Forest  \n",
    "\n",
    "Q.4. Tabulate the performance metrics of all the above models, perform tuning of models and tell which model performs better in predicting if the client will subscribe to term deposit or not 🡪10 marks\n"
   ]
  },
  {
   "cell_type": "markdown",
   "metadata": {},
   "source": [
    "### Perform the following tasks:"
   ]
  },
  {
   "cell_type": "markdown",
   "metadata": {},
   "source": [
    "#### Q1. Perform EDA on the given data. What does the primary analysis of several categorical features reveal? 🡪5 marks"
   ]
  },
  {
   "cell_type": "code",
   "execution_count": 1,
   "metadata": {
    "scrolled": true
   },
   "outputs": [],
   "source": [
    "# Imports\n",
    "\n",
    "import pandas as pd\n",
    "import numpy as np\n",
    "import matplotlib.pyplot as plt\n",
    "import seaborn as sns\n",
    "import warnings\n",
    "warnings.filterwarnings(\"ignore\")\n",
    "pd.set_option('display.max_columns', None)\n",
    "from sklearn.preprocessing import LabelEncoder\n",
    "from sklearn.model_selection import train_test_split\n",
    "from sklearn.linear_model import LogisticRegression\n",
    "from sklearn.metrics import confusion_matrix, accuracy_score, classification_report\n",
    "from sklearn import metrics\n",
    "import matplotlib.pyplot as plt\n",
    "from statsmodels.stats.outliers_influence import variance_inflation_factor as vif\n",
    "from sklearn.preprocessing import StandardScaler\n",
    "from sklearn.model_selection import KFold\n",
    "from sklearn.model_selection import cross_val_score\n",
    "from sklearn.model_selection import StratifiedKFold\n",
    "from sklearn.feature_selection import RFE\n",
    "from mlxtend.feature_selection import SequentialFeatureSelector as SFS\n",
    "from sklearn.feature_selection import SelectKBest\n",
    "from sklearn.feature_selection import chi2\n",
    "from sklearn.feature_selection import VarianceThreshold\n",
    "from sklearn.tree import DecisionTreeClassifier\n",
    "from sklearn.ensemble import RandomForestClassifier\n",
    "from imblearn.over_sampling import SMOTE\n",
    "from sklearn.metrics import roc_curve\n",
    "from sklearn.metrics import roc_auc_score"
   ]
  },
  {
   "cell_type": "code",
   "execution_count": 2,
   "metadata": {},
   "outputs": [],
   "source": [
    "#pip install mlxtend"
   ]
  },
  {
   "cell_type": "code",
   "execution_count": 3,
   "metadata": {},
   "outputs": [
    {
     "data": {
      "text/html": [
       "<div>\n",
       "<style scoped>\n",
       "    .dataframe tbody tr th:only-of-type {\n",
       "        vertical-align: middle;\n",
       "    }\n",
       "\n",
       "    .dataframe tbody tr th {\n",
       "        vertical-align: top;\n",
       "    }\n",
       "\n",
       "    .dataframe thead th {\n",
       "        text-align: right;\n",
       "    }\n",
       "</style>\n",
       "<table border=\"1\" class=\"dataframe\">\n",
       "  <thead>\n",
       "    <tr style=\"text-align: right;\">\n",
       "      <th></th>\n",
       "      <th>age</th>\n",
       "      <th>job</th>\n",
       "      <th>marital</th>\n",
       "      <th>education</th>\n",
       "      <th>default</th>\n",
       "      <th>housing</th>\n",
       "      <th>loan</th>\n",
       "      <th>contact</th>\n",
       "      <th>month</th>\n",
       "      <th>day_of_week</th>\n",
       "      <th>duration</th>\n",
       "      <th>campaign</th>\n",
       "      <th>pdays</th>\n",
       "      <th>previous</th>\n",
       "      <th>poutcome</th>\n",
       "      <th>emp.var.rate</th>\n",
       "      <th>cons.price.idx</th>\n",
       "      <th>cons.conf.idx</th>\n",
       "      <th>euribor3m</th>\n",
       "      <th>nr.employed</th>\n",
       "      <th>y</th>\n",
       "    </tr>\n",
       "  </thead>\n",
       "  <tbody>\n",
       "    <tr>\n",
       "      <th>0</th>\n",
       "      <td>56</td>\n",
       "      <td>housemaid</td>\n",
       "      <td>married</td>\n",
       "      <td>basic.4y</td>\n",
       "      <td>no</td>\n",
       "      <td>no</td>\n",
       "      <td>no</td>\n",
       "      <td>telephone</td>\n",
       "      <td>may</td>\n",
       "      <td>mon</td>\n",
       "      <td>261</td>\n",
       "      <td>1</td>\n",
       "      <td>999</td>\n",
       "      <td>0</td>\n",
       "      <td>nonexistent</td>\n",
       "      <td>1.1</td>\n",
       "      <td>93.994</td>\n",
       "      <td>-36.4</td>\n",
       "      <td>4.857</td>\n",
       "      <td>5191.0</td>\n",
       "      <td>no</td>\n",
       "    </tr>\n",
       "    <tr>\n",
       "      <th>1</th>\n",
       "      <td>57</td>\n",
       "      <td>services</td>\n",
       "      <td>married</td>\n",
       "      <td>high.school</td>\n",
       "      <td>unknown</td>\n",
       "      <td>no</td>\n",
       "      <td>no</td>\n",
       "      <td>telephone</td>\n",
       "      <td>may</td>\n",
       "      <td>mon</td>\n",
       "      <td>149</td>\n",
       "      <td>1</td>\n",
       "      <td>999</td>\n",
       "      <td>0</td>\n",
       "      <td>nonexistent</td>\n",
       "      <td>1.1</td>\n",
       "      <td>93.994</td>\n",
       "      <td>-36.4</td>\n",
       "      <td>4.857</td>\n",
       "      <td>5191.0</td>\n",
       "      <td>no</td>\n",
       "    </tr>\n",
       "    <tr>\n",
       "      <th>2</th>\n",
       "      <td>37</td>\n",
       "      <td>services</td>\n",
       "      <td>married</td>\n",
       "      <td>high.school</td>\n",
       "      <td>no</td>\n",
       "      <td>yes</td>\n",
       "      <td>no</td>\n",
       "      <td>telephone</td>\n",
       "      <td>may</td>\n",
       "      <td>mon</td>\n",
       "      <td>226</td>\n",
       "      <td>1</td>\n",
       "      <td>999</td>\n",
       "      <td>0</td>\n",
       "      <td>nonexistent</td>\n",
       "      <td>1.1</td>\n",
       "      <td>93.994</td>\n",
       "      <td>-36.4</td>\n",
       "      <td>4.857</td>\n",
       "      <td>5191.0</td>\n",
       "      <td>no</td>\n",
       "    </tr>\n",
       "    <tr>\n",
       "      <th>3</th>\n",
       "      <td>40</td>\n",
       "      <td>admin.</td>\n",
       "      <td>married</td>\n",
       "      <td>basic.6y</td>\n",
       "      <td>no</td>\n",
       "      <td>no</td>\n",
       "      <td>no</td>\n",
       "      <td>telephone</td>\n",
       "      <td>may</td>\n",
       "      <td>mon</td>\n",
       "      <td>151</td>\n",
       "      <td>1</td>\n",
       "      <td>999</td>\n",
       "      <td>0</td>\n",
       "      <td>nonexistent</td>\n",
       "      <td>1.1</td>\n",
       "      <td>93.994</td>\n",
       "      <td>-36.4</td>\n",
       "      <td>4.857</td>\n",
       "      <td>5191.0</td>\n",
       "      <td>no</td>\n",
       "    </tr>\n",
       "    <tr>\n",
       "      <th>4</th>\n",
       "      <td>56</td>\n",
       "      <td>services</td>\n",
       "      <td>married</td>\n",
       "      <td>high.school</td>\n",
       "      <td>no</td>\n",
       "      <td>no</td>\n",
       "      <td>yes</td>\n",
       "      <td>telephone</td>\n",
       "      <td>may</td>\n",
       "      <td>mon</td>\n",
       "      <td>307</td>\n",
       "      <td>1</td>\n",
       "      <td>999</td>\n",
       "      <td>0</td>\n",
       "      <td>nonexistent</td>\n",
       "      <td>1.1</td>\n",
       "      <td>93.994</td>\n",
       "      <td>-36.4</td>\n",
       "      <td>4.857</td>\n",
       "      <td>5191.0</td>\n",
       "      <td>no</td>\n",
       "    </tr>\n",
       "  </tbody>\n",
       "</table>\n",
       "</div>"
      ],
      "text/plain": [
       "   age        job  marital    education  default housing loan    contact  \\\n",
       "0   56  housemaid  married     basic.4y       no      no   no  telephone   \n",
       "1   57   services  married  high.school  unknown      no   no  telephone   \n",
       "2   37   services  married  high.school       no     yes   no  telephone   \n",
       "3   40     admin.  married     basic.6y       no      no   no  telephone   \n",
       "4   56   services  married  high.school       no      no  yes  telephone   \n",
       "\n",
       "  month day_of_week  duration  campaign  pdays  previous     poutcome  \\\n",
       "0   may         mon       261         1    999         0  nonexistent   \n",
       "1   may         mon       149         1    999         0  nonexistent   \n",
       "2   may         mon       226         1    999         0  nonexistent   \n",
       "3   may         mon       151         1    999         0  nonexistent   \n",
       "4   may         mon       307         1    999         0  nonexistent   \n",
       "\n",
       "   emp.var.rate  cons.price.idx  cons.conf.idx  euribor3m  nr.employed   y  \n",
       "0           1.1          93.994          -36.4      4.857       5191.0  no  \n",
       "1           1.1          93.994          -36.4      4.857       5191.0  no  \n",
       "2           1.1          93.994          -36.4      4.857       5191.0  no  \n",
       "3           1.1          93.994          -36.4      4.857       5191.0  no  \n",
       "4           1.1          93.994          -36.4      4.857       5191.0  no  "
      ]
     },
     "execution_count": 3,
     "metadata": {},
     "output_type": "execute_result"
    }
   ],
   "source": [
    "# Loading the dataset\n",
    "\n",
    "bank_df = pd.read_csv(r\"bank.csv\", sep=';')\n",
    "bank_df.head()"
   ]
  },
  {
   "cell_type": "code",
   "execution_count": 4,
   "metadata": {},
   "outputs": [
    {
     "name": "stdout",
     "output_type": "stream",
     "text": [
      "The shape of the data: \n",
      " (41188, 21)\n",
      "\n",
      "\n",
      "\n",
      " Data types: \n",
      " age                 int64\n",
      "job                object\n",
      "marital            object\n",
      "education          object\n",
      "default            object\n",
      "housing            object\n",
      "loan               object\n",
      "contact            object\n",
      "month              object\n",
      "day_of_week        object\n",
      "duration            int64\n",
      "campaign            int64\n",
      "pdays               int64\n",
      "previous            int64\n",
      "poutcome           object\n",
      "emp.var.rate      float64\n",
      "cons.price.idx    float64\n",
      "cons.conf.idx     float64\n",
      "euribor3m         float64\n",
      "nr.employed       float64\n",
      "y                  object\n",
      "dtype: object\n"
     ]
    }
   ],
   "source": [
    "# Basic Data Exploration.\n",
    "\n",
    "print(\"The shape of the data: \\n\", bank_df.shape)\n",
    "print(\"\\n\\n\\n Data types: \\n\", bank_df.dtypes)"
   ]
  },
  {
   "cell_type": "code",
   "execution_count": 5,
   "metadata": {
    "scrolled": true
   },
   "outputs": [
    {
     "data": {
      "text/html": [
       "<div>\n",
       "<style scoped>\n",
       "    .dataframe tbody tr th:only-of-type {\n",
       "        vertical-align: middle;\n",
       "    }\n",
       "\n",
       "    .dataframe tbody tr th {\n",
       "        vertical-align: top;\n",
       "    }\n",
       "\n",
       "    .dataframe thead th {\n",
       "        text-align: right;\n",
       "    }\n",
       "</style>\n",
       "<table border=\"1\" class=\"dataframe\">\n",
       "  <thead>\n",
       "    <tr style=\"text-align: right;\">\n",
       "      <th></th>\n",
       "      <th>age</th>\n",
       "      <th>job</th>\n",
       "      <th>marital</th>\n",
       "      <th>education</th>\n",
       "      <th>default</th>\n",
       "      <th>housing</th>\n",
       "      <th>loan</th>\n",
       "      <th>contact</th>\n",
       "      <th>month</th>\n",
       "      <th>day_of_week</th>\n",
       "      <th>duration</th>\n",
       "      <th>campaign</th>\n",
       "      <th>pdays</th>\n",
       "      <th>previous</th>\n",
       "      <th>poutcome</th>\n",
       "      <th>emp.var.rate</th>\n",
       "      <th>cons.price.idx</th>\n",
       "      <th>cons.conf.idx</th>\n",
       "      <th>euribor3m</th>\n",
       "      <th>nr.employed</th>\n",
       "      <th>y</th>\n",
       "    </tr>\n",
       "  </thead>\n",
       "  <tbody>\n",
       "    <tr>\n",
       "      <th>count</th>\n",
       "      <td>41188.00000</td>\n",
       "      <td>41188</td>\n",
       "      <td>41188</td>\n",
       "      <td>41188</td>\n",
       "      <td>41188</td>\n",
       "      <td>41188</td>\n",
       "      <td>41188</td>\n",
       "      <td>41188</td>\n",
       "      <td>41188</td>\n",
       "      <td>41188</td>\n",
       "      <td>41188.000000</td>\n",
       "      <td>41188.000000</td>\n",
       "      <td>41188.000000</td>\n",
       "      <td>41188.000000</td>\n",
       "      <td>41188</td>\n",
       "      <td>41188.000000</td>\n",
       "      <td>41188.000000</td>\n",
       "      <td>41188.000000</td>\n",
       "      <td>41188.000000</td>\n",
       "      <td>41188.000000</td>\n",
       "      <td>41188</td>\n",
       "    </tr>\n",
       "    <tr>\n",
       "      <th>unique</th>\n",
       "      <td>NaN</td>\n",
       "      <td>12</td>\n",
       "      <td>4</td>\n",
       "      <td>8</td>\n",
       "      <td>3</td>\n",
       "      <td>3</td>\n",
       "      <td>3</td>\n",
       "      <td>2</td>\n",
       "      <td>10</td>\n",
       "      <td>5</td>\n",
       "      <td>NaN</td>\n",
       "      <td>NaN</td>\n",
       "      <td>NaN</td>\n",
       "      <td>NaN</td>\n",
       "      <td>3</td>\n",
       "      <td>NaN</td>\n",
       "      <td>NaN</td>\n",
       "      <td>NaN</td>\n",
       "      <td>NaN</td>\n",
       "      <td>NaN</td>\n",
       "      <td>2</td>\n",
       "    </tr>\n",
       "    <tr>\n",
       "      <th>top</th>\n",
       "      <td>NaN</td>\n",
       "      <td>admin.</td>\n",
       "      <td>married</td>\n",
       "      <td>university.degree</td>\n",
       "      <td>no</td>\n",
       "      <td>yes</td>\n",
       "      <td>no</td>\n",
       "      <td>cellular</td>\n",
       "      <td>may</td>\n",
       "      <td>thu</td>\n",
       "      <td>NaN</td>\n",
       "      <td>NaN</td>\n",
       "      <td>NaN</td>\n",
       "      <td>NaN</td>\n",
       "      <td>nonexistent</td>\n",
       "      <td>NaN</td>\n",
       "      <td>NaN</td>\n",
       "      <td>NaN</td>\n",
       "      <td>NaN</td>\n",
       "      <td>NaN</td>\n",
       "      <td>no</td>\n",
       "    </tr>\n",
       "    <tr>\n",
       "      <th>freq</th>\n",
       "      <td>NaN</td>\n",
       "      <td>10422</td>\n",
       "      <td>24928</td>\n",
       "      <td>12168</td>\n",
       "      <td>32588</td>\n",
       "      <td>21576</td>\n",
       "      <td>33950</td>\n",
       "      <td>26144</td>\n",
       "      <td>13769</td>\n",
       "      <td>8623</td>\n",
       "      <td>NaN</td>\n",
       "      <td>NaN</td>\n",
       "      <td>NaN</td>\n",
       "      <td>NaN</td>\n",
       "      <td>35563</td>\n",
       "      <td>NaN</td>\n",
       "      <td>NaN</td>\n",
       "      <td>NaN</td>\n",
       "      <td>NaN</td>\n",
       "      <td>NaN</td>\n",
       "      <td>36548</td>\n",
       "    </tr>\n",
       "    <tr>\n",
       "      <th>mean</th>\n",
       "      <td>40.02406</td>\n",
       "      <td>NaN</td>\n",
       "      <td>NaN</td>\n",
       "      <td>NaN</td>\n",
       "      <td>NaN</td>\n",
       "      <td>NaN</td>\n",
       "      <td>NaN</td>\n",
       "      <td>NaN</td>\n",
       "      <td>NaN</td>\n",
       "      <td>NaN</td>\n",
       "      <td>258.285010</td>\n",
       "      <td>2.567593</td>\n",
       "      <td>962.475454</td>\n",
       "      <td>0.172963</td>\n",
       "      <td>NaN</td>\n",
       "      <td>0.081886</td>\n",
       "      <td>93.575664</td>\n",
       "      <td>-40.502600</td>\n",
       "      <td>3.621291</td>\n",
       "      <td>5167.035911</td>\n",
       "      <td>NaN</td>\n",
       "    </tr>\n",
       "    <tr>\n",
       "      <th>std</th>\n",
       "      <td>10.42125</td>\n",
       "      <td>NaN</td>\n",
       "      <td>NaN</td>\n",
       "      <td>NaN</td>\n",
       "      <td>NaN</td>\n",
       "      <td>NaN</td>\n",
       "      <td>NaN</td>\n",
       "      <td>NaN</td>\n",
       "      <td>NaN</td>\n",
       "      <td>NaN</td>\n",
       "      <td>259.279249</td>\n",
       "      <td>2.770014</td>\n",
       "      <td>186.910907</td>\n",
       "      <td>0.494901</td>\n",
       "      <td>NaN</td>\n",
       "      <td>1.570960</td>\n",
       "      <td>0.578840</td>\n",
       "      <td>4.628198</td>\n",
       "      <td>1.734447</td>\n",
       "      <td>72.251528</td>\n",
       "      <td>NaN</td>\n",
       "    </tr>\n",
       "    <tr>\n",
       "      <th>min</th>\n",
       "      <td>17.00000</td>\n",
       "      <td>NaN</td>\n",
       "      <td>NaN</td>\n",
       "      <td>NaN</td>\n",
       "      <td>NaN</td>\n",
       "      <td>NaN</td>\n",
       "      <td>NaN</td>\n",
       "      <td>NaN</td>\n",
       "      <td>NaN</td>\n",
       "      <td>NaN</td>\n",
       "      <td>0.000000</td>\n",
       "      <td>1.000000</td>\n",
       "      <td>0.000000</td>\n",
       "      <td>0.000000</td>\n",
       "      <td>NaN</td>\n",
       "      <td>-3.400000</td>\n",
       "      <td>92.201000</td>\n",
       "      <td>-50.800000</td>\n",
       "      <td>0.634000</td>\n",
       "      <td>4963.600000</td>\n",
       "      <td>NaN</td>\n",
       "    </tr>\n",
       "    <tr>\n",
       "      <th>25%</th>\n",
       "      <td>32.00000</td>\n",
       "      <td>NaN</td>\n",
       "      <td>NaN</td>\n",
       "      <td>NaN</td>\n",
       "      <td>NaN</td>\n",
       "      <td>NaN</td>\n",
       "      <td>NaN</td>\n",
       "      <td>NaN</td>\n",
       "      <td>NaN</td>\n",
       "      <td>NaN</td>\n",
       "      <td>102.000000</td>\n",
       "      <td>1.000000</td>\n",
       "      <td>999.000000</td>\n",
       "      <td>0.000000</td>\n",
       "      <td>NaN</td>\n",
       "      <td>-1.800000</td>\n",
       "      <td>93.075000</td>\n",
       "      <td>-42.700000</td>\n",
       "      <td>1.344000</td>\n",
       "      <td>5099.100000</td>\n",
       "      <td>NaN</td>\n",
       "    </tr>\n",
       "    <tr>\n",
       "      <th>50%</th>\n",
       "      <td>38.00000</td>\n",
       "      <td>NaN</td>\n",
       "      <td>NaN</td>\n",
       "      <td>NaN</td>\n",
       "      <td>NaN</td>\n",
       "      <td>NaN</td>\n",
       "      <td>NaN</td>\n",
       "      <td>NaN</td>\n",
       "      <td>NaN</td>\n",
       "      <td>NaN</td>\n",
       "      <td>180.000000</td>\n",
       "      <td>2.000000</td>\n",
       "      <td>999.000000</td>\n",
       "      <td>0.000000</td>\n",
       "      <td>NaN</td>\n",
       "      <td>1.100000</td>\n",
       "      <td>93.749000</td>\n",
       "      <td>-41.800000</td>\n",
       "      <td>4.857000</td>\n",
       "      <td>5191.000000</td>\n",
       "      <td>NaN</td>\n",
       "    </tr>\n",
       "    <tr>\n",
       "      <th>75%</th>\n",
       "      <td>47.00000</td>\n",
       "      <td>NaN</td>\n",
       "      <td>NaN</td>\n",
       "      <td>NaN</td>\n",
       "      <td>NaN</td>\n",
       "      <td>NaN</td>\n",
       "      <td>NaN</td>\n",
       "      <td>NaN</td>\n",
       "      <td>NaN</td>\n",
       "      <td>NaN</td>\n",
       "      <td>319.000000</td>\n",
       "      <td>3.000000</td>\n",
       "      <td>999.000000</td>\n",
       "      <td>0.000000</td>\n",
       "      <td>NaN</td>\n",
       "      <td>1.400000</td>\n",
       "      <td>93.994000</td>\n",
       "      <td>-36.400000</td>\n",
       "      <td>4.961000</td>\n",
       "      <td>5228.100000</td>\n",
       "      <td>NaN</td>\n",
       "    </tr>\n",
       "    <tr>\n",
       "      <th>max</th>\n",
       "      <td>98.00000</td>\n",
       "      <td>NaN</td>\n",
       "      <td>NaN</td>\n",
       "      <td>NaN</td>\n",
       "      <td>NaN</td>\n",
       "      <td>NaN</td>\n",
       "      <td>NaN</td>\n",
       "      <td>NaN</td>\n",
       "      <td>NaN</td>\n",
       "      <td>NaN</td>\n",
       "      <td>4918.000000</td>\n",
       "      <td>56.000000</td>\n",
       "      <td>999.000000</td>\n",
       "      <td>7.000000</td>\n",
       "      <td>NaN</td>\n",
       "      <td>1.400000</td>\n",
       "      <td>94.767000</td>\n",
       "      <td>-26.900000</td>\n",
       "      <td>5.045000</td>\n",
       "      <td>5228.100000</td>\n",
       "      <td>NaN</td>\n",
       "    </tr>\n",
       "  </tbody>\n",
       "</table>\n",
       "</div>"
      ],
      "text/plain": [
       "                age     job  marital          education default housing  \\\n",
       "count   41188.00000   41188    41188              41188   41188   41188   \n",
       "unique          NaN      12        4                  8       3       3   \n",
       "top             NaN  admin.  married  university.degree      no     yes   \n",
       "freq            NaN   10422    24928              12168   32588   21576   \n",
       "mean       40.02406     NaN      NaN                NaN     NaN     NaN   \n",
       "std        10.42125     NaN      NaN                NaN     NaN     NaN   \n",
       "min        17.00000     NaN      NaN                NaN     NaN     NaN   \n",
       "25%        32.00000     NaN      NaN                NaN     NaN     NaN   \n",
       "50%        38.00000     NaN      NaN                NaN     NaN     NaN   \n",
       "75%        47.00000     NaN      NaN                NaN     NaN     NaN   \n",
       "max        98.00000     NaN      NaN                NaN     NaN     NaN   \n",
       "\n",
       "         loan   contact  month day_of_week      duration      campaign  \\\n",
       "count   41188     41188  41188       41188  41188.000000  41188.000000   \n",
       "unique      3         2     10           5           NaN           NaN   \n",
       "top        no  cellular    may         thu           NaN           NaN   \n",
       "freq    33950     26144  13769        8623           NaN           NaN   \n",
       "mean      NaN       NaN    NaN         NaN    258.285010      2.567593   \n",
       "std       NaN       NaN    NaN         NaN    259.279249      2.770014   \n",
       "min       NaN       NaN    NaN         NaN      0.000000      1.000000   \n",
       "25%       NaN       NaN    NaN         NaN    102.000000      1.000000   \n",
       "50%       NaN       NaN    NaN         NaN    180.000000      2.000000   \n",
       "75%       NaN       NaN    NaN         NaN    319.000000      3.000000   \n",
       "max       NaN       NaN    NaN         NaN   4918.000000     56.000000   \n",
       "\n",
       "               pdays      previous     poutcome  emp.var.rate  cons.price.idx  \\\n",
       "count   41188.000000  41188.000000        41188  41188.000000    41188.000000   \n",
       "unique           NaN           NaN            3           NaN             NaN   \n",
       "top              NaN           NaN  nonexistent           NaN             NaN   \n",
       "freq             NaN           NaN        35563           NaN             NaN   \n",
       "mean      962.475454      0.172963          NaN      0.081886       93.575664   \n",
       "std       186.910907      0.494901          NaN      1.570960        0.578840   \n",
       "min         0.000000      0.000000          NaN     -3.400000       92.201000   \n",
       "25%       999.000000      0.000000          NaN     -1.800000       93.075000   \n",
       "50%       999.000000      0.000000          NaN      1.100000       93.749000   \n",
       "75%       999.000000      0.000000          NaN      1.400000       93.994000   \n",
       "max       999.000000      7.000000          NaN      1.400000       94.767000   \n",
       "\n",
       "        cons.conf.idx     euribor3m   nr.employed      y  \n",
       "count    41188.000000  41188.000000  41188.000000  41188  \n",
       "unique            NaN           NaN           NaN      2  \n",
       "top               NaN           NaN           NaN     no  \n",
       "freq              NaN           NaN           NaN  36548  \n",
       "mean       -40.502600      3.621291   5167.035911    NaN  \n",
       "std          4.628198      1.734447     72.251528    NaN  \n",
       "min        -50.800000      0.634000   4963.600000    NaN  \n",
       "25%        -42.700000      1.344000   5099.100000    NaN  \n",
       "50%        -41.800000      4.857000   5191.000000    NaN  \n",
       "75%        -36.400000      4.961000   5228.100000    NaN  \n",
       "max        -26.900000      5.045000   5228.100000    NaN  "
      ]
     },
     "execution_count": 5,
     "metadata": {},
     "output_type": "execute_result"
    }
   ],
   "source": [
    "# Checking Statistical summary/ description\n",
    "bank_df.describe(include=\"all\")"
   ]
  },
  {
   "cell_type": "code",
   "execution_count": 6,
   "metadata": {},
   "outputs": [
    {
     "name": "stdout",
     "output_type": "stream",
     "text": [
      "<class 'pandas.core.frame.DataFrame'>\n",
      "RangeIndex: 41188 entries, 0 to 41187\n",
      "Data columns (total 21 columns):\n",
      " #   Column          Non-Null Count  Dtype  \n",
      "---  ------          --------------  -----  \n",
      " 0   age             41188 non-null  int64  \n",
      " 1   job             41188 non-null  object \n",
      " 2   marital         41188 non-null  object \n",
      " 3   education       41188 non-null  object \n",
      " 4   default         41188 non-null  object \n",
      " 5   housing         41188 non-null  object \n",
      " 6   loan            41188 non-null  object \n",
      " 7   contact         41188 non-null  object \n",
      " 8   month           41188 non-null  object \n",
      " 9   day_of_week     41188 non-null  object \n",
      " 10  duration        41188 non-null  int64  \n",
      " 11  campaign        41188 non-null  int64  \n",
      " 12  pdays           41188 non-null  int64  \n",
      " 13  previous        41188 non-null  int64  \n",
      " 14  poutcome        41188 non-null  object \n",
      " 15  emp.var.rate    41188 non-null  float64\n",
      " 16  cons.price.idx  41188 non-null  float64\n",
      " 17  cons.conf.idx   41188 non-null  float64\n",
      " 18  euribor3m       41188 non-null  float64\n",
      " 19  nr.employed     41188 non-null  float64\n",
      " 20  y               41188 non-null  object \n",
      "dtypes: float64(5), int64(5), object(11)\n",
      "memory usage: 6.6+ MB\n"
     ]
    }
   ],
   "source": [
    "# Checking info\n",
    "bank_df.info()"
   ]
  },
  {
   "cell_type": "code",
   "execution_count": 7,
   "metadata": {},
   "outputs": [
    {
     "data": {
      "text/plain": [
       "no     36548\n",
       "yes     4640\n",
       "Name: y, dtype: int64"
      ]
     },
     "execution_count": 7,
     "metadata": {},
     "output_type": "execute_result"
    }
   ],
   "source": [
    "bank_df['y'].value_counts() #Imbalanced DataSet"
   ]
  },
  {
   "cell_type": "markdown",
   "metadata": {},
   "source": [
    "### Visualization"
   ]
  },
  {
   "cell_type": "code",
   "execution_count": 8,
   "metadata": {
    "scrolled": false
   },
   "outputs": [
    {
     "name": "stdout",
     "output_type": "stream",
     "text": [
      "All Features: Index(['age', 'job', 'marital', 'education', 'default', 'housing', 'loan',\n",
      "       'contact', 'month', 'day_of_week', 'duration', 'campaign', 'pdays',\n",
      "       'previous', 'poutcome', 'emp.var.rate', 'cons.price.idx',\n",
      "       'cons.conf.idx', 'euribor3m', 'nr.employed', 'y'],\n",
      "      dtype='object') \n",
      "\n",
      "\n",
      "Object datatype: ['job', 'marital', 'education', 'default', 'housing', 'loan', 'contact', 'month', 'day_of_week', 'poutcome', 'y'] \n",
      "\n",
      "\n",
      "Numeric datatype: ['age', 'duration', 'campaign', 'pdays', 'previous', 'emp.var.rate', 'cons.price.idx', 'cons.conf.idx', 'euribor3m', 'nr.employed'] \n",
      "\n",
      "\n",
      "Independent variables: Index(['age', 'job', 'marital', 'education', 'default', 'housing', 'loan',\n",
      "       'contact', 'month', 'day_of_week', 'duration', 'campaign', 'pdays',\n",
      "       'previous', 'poutcome', 'emp.var.rate', 'cons.price.idx',\n",
      "       'cons.conf.idx', 'euribor3m', 'nr.employed'],\n",
      "      dtype='object') \n",
      "\n",
      "\n",
      "Dependent variables: y \n",
      "\n",
      "\n"
     ]
    }
   ],
   "source": [
    "# Creating lists with column names for numeric vs categorical, Dependent vs Independent Variables.\n",
    "\n",
    "colname_object = []\n",
    "for x in bank_df.columns:\n",
    "    if bank_df[x].dtype == 'object':\n",
    "        colname_object.append(x)\n",
    "\n",
    "colname_numeric = []\n",
    "for x in bank_df.columns:\n",
    "    if bank_df[x].dtype == 'int64' or bank_df[x].dtype == 'float':\n",
    "        colname_numeric.append(x)\n",
    "        \n",
    "temp = bank_df.columns\n",
    "        \n",
    "colname_x = temp[:-1]\n",
    "\n",
    "colname_y = temp[-1]\n",
    "\n",
    "print(\"All Features:\", temp, \"\\n\\n\")\n",
    "print(\"Object datatype:\", colname_object, \"\\n\\n\")\n",
    "print(\"Numeric datatype:\", colname_numeric, \"\\n\\n\")\n",
    "print(\"Independent variables:\", colname_x, \"\\n\\n\")\n",
    "print(\"Dependent variables:\", colname_y, \"\\n\\n\")"
   ]
  },
  {
   "cell_type": "code",
   "execution_count": 9,
   "metadata": {
    "scrolled": false
   },
   "outputs": [
    {
     "data": {
      "image/png": "[encoded data removed]",
      "text/plain": [
       "<Figure size 576x576 with 1 Axes>"
      ]
     },
     "metadata": {
      "needs_background": "light"
     },
     "output_type": "display_data"
    },
    {
     "data": {
      "image/png": "[encoded data removed]",
      "text/plain": [
       "<Figure size 576x576 with 1 Axes>"
      ]
     },
     "metadata": {
      "needs_background": "light"
     },
     "output_type": "display_data"
    },
    {
     "data": {
      "image/png": "[encoded data removed]",
      "text/plain": [
       "<Figure size 576x576 with 1 Axes>"
      ]
     },
     "metadata": {
      "needs_background": "light"
     },
     "output_type": "display_data"
    },
    {
     "data": {
      "image/png": "[encoded data removed]",
      "text/plain": [
       "<Figure size 576x576 with 1 Axes>"
      ]
     },
     "metadata": {
      "needs_background": "light"
     },
     "output_type": "display_data"
    },
    {
     "data": {
      "image/png": "[encoded data removed]",
      "text/plain": [
       "<Figure size 576x576 with 1 Axes>"
      ]
     },
     "metadata": {
      "needs_background": "light"
     },
     "output_type": "display_data"
    },
    {
     "data": {
      "image/png": "[encoded data removed]",
      "text/plain": [
       "<Figure size 576x576 with 1 Axes>"
      ]
     },
     "metadata": {
      "needs_background": "light"
     },
     "output_type": "display_data"
    },
    {
     "data": {
      "image/png": "[encoded data removed]",
      "text/plain": [
       "<Figure size 576x576 with 1 Axes>"
      ]
     },
     "metadata": {
      "needs_background": "light"
     },
     "output_type": "display_data"
    },
    {
     "data": {
      "image/png": "[encoded data removed]",
      "text/plain": [
       "<Figure size 576x576 with 1 Axes>"
      ]
     },
     "metadata": {
      "needs_background": "light"
     },
     "output_type": "display_data"
    },
    {
     "data": {
      "image/png": "[encoded data removed]",
      "text/plain": [
       "<Figure size 576x576 with 1 Axes>"
      ]
     },
     "metadata": {
      "needs_background": "light"
     },
     "output_type": "display_data"
    },
    {
     "data": {
      "image/png": "[encoded data removed]",
      "text/plain": [
       "<Figure size 576x576 with 1 Axes>"
      ]
     },
     "metadata": {
      "needs_background": "light"
     },
     "output_type": "display_data"
    }
   ],
   "source": [
    "# For Numeric Variables\n",
    "\n",
    "for i in colname_numeric:\n",
    "    plt.figure(figsize=(8,8))\n",
    "    bank_df.boxplot(column=i)\n",
    "    plt.show();"
   ]
  },
  {
   "cell_type": "code",
   "execution_count": 10,
   "metadata": {
    "scrolled": false
   },
   "outputs": [
    {
     "data": {
      "image/png": "[encoded data removed]",
      "text/plain": [
       "<Figure size 720x576 with 1 Axes>"
      ]
     },
     "metadata": {
      "needs_background": "light"
     },
     "output_type": "display_data"
    },
    {
     "data": {
      "image/png": "[encoded data removed]",
      "text/plain": [
       "<Figure size 720x576 with 1 Axes>"
      ]
     },
     "metadata": {
      "needs_background": "light"
     },
     "output_type": "display_data"
    },
    {
     "data": {
      "image/png": "[encoded data removed]",
      "text/plain": [
       "<Figure size 720x576 with 1 Axes>"
      ]
     },
     "metadata": {
      "needs_background": "light"
     },
     "output_type": "display_data"
    },
    {
     "data": {
      "image/png": "[encoded data removed]",
      "text/plain": [
       "<Figure size 720x576 with 1 Axes>"
      ]
     },
     "metadata": {
      "needs_background": "light"
     },
     "output_type": "display_data"
    },
    {
     "data": {
      "image/png": "[encoded data removed]",
      "text/plain": [
       "<Figure size 720x576 with 1 Axes>"
      ]
     },
     "metadata": {
      "needs_background": "light"
     },
     "output_type": "display_data"
    },
    {
     "data": {
      "image/png": "[encoded data removed]",
      "text/plain": [
       "<Figure size 720x576 with 1 Axes>"
      ]
     },
     "metadata": {
      "needs_background": "light"
     },
     "output_type": "display_data"
    },
    {
     "data": {
      "image/png": "[encoded data removed]",
      "text/plain": [
       "<Figure size 720x576 with 1 Axes>"
      ]
     },
     "metadata": {
      "needs_background": "light"
     },
     "output_type": "display_data"
    },
    {
     "data": {
      "image/png": "[encoded data removed]",
      "text/plain": [
       "<Figure size 720x576 with 1 Axes>"
      ]
     },
     "metadata": {
      "needs_background": "light"
     },
     "output_type": "display_data"
    },
    {
     "data": {
      "image/png": "[encoded data removed]",
      "text/plain": [
       "<Figure size 720x576 with 1 Axes>"
      ]
     },
     "metadata": {
      "needs_background": "light"
     },
     "output_type": "display_data"
    },
    {
     "data": {
      "image/png": "[encoded data removed]",
      "text/plain": [
       "<Figure size 720x576 with 1 Axes>"
      ]
     },
     "metadata": {
      "needs_background": "light"
     },
     "output_type": "display_data"
    },
    {
     "data": {
      "image/png": "[encoded data removed]",
      "text/plain": [
       "<Figure size 720x576 with 1 Axes>"
      ]
     },
     "metadata": {
      "needs_background": "light"
     },
     "output_type": "display_data"
    }
   ],
   "source": [
    "# For categorical Variables\n",
    "\n",
    "for col in colname_object:\n",
    "    plt.figure(figsize=(10,8))\n",
    "    sns.barplot(bank_df[col].value_counts().values, bank_df[col].value_counts().index)\n",
    "    plt.title(col)\n",
    "    plt.tight_layout()"
   ]
  },
  {
   "cell_type": "code",
   "execution_count": 11,
   "metadata": {},
   "outputs": [
    {
     "data": {
      "image/png": "[encoded data removed]",
      "text/plain": [
       "<Figure size 504x576 with 1 Axes>"
      ]
     },
     "metadata": {
      "needs_background": "light"
     },
     "output_type": "display_data"
    }
   ],
   "source": [
    "# Dependent variable\n",
    "\n",
    "names = bank_df[\"y\"].value_counts().keys()\n",
    "counts = bank_df[\"y\"].value_counts().values\n",
    "plt.subplots(figsize=(7, 8))\n",
    "plt.bar(names, counts, color=\"orange\")\n",
    "plt.xlabel(\"class names\")\n",
    "plt.ylabel(\"Frequency\")\n",
    "plt.title(\"Distribtuion of class\")\n",
    "plt.show()"
   ]
  },
  {
   "cell_type": "markdown",
   "metadata": {},
   "source": [
    "### Insights:\n",
    "* We have 41188 rows and 21 columns in our data.\n",
    "* We have 10 numeric and 10 categorical Independent columns.\n",
    "* We have 1 categorical Dependent columns.\n",
    "* Studying the statistical description of the data we suspect that (\"duration\", \"campaign\", \"precious\") might have outliers.\n",
    "* We have an imbalanced data set, i.e. class 0 observations is way more than class 1."
   ]
  },
  {
   "cell_type": "markdown",
   "metadata": {},
   "source": [
    "##### Q.2. Perform the following pre-processing tasks: 🡪10 marks\n",
    "* a. Missing Value Analysis\n",
    "* b. Label Encoding wherever required\n",
    "* c. Selecting important features based on Random Forest\n",
    "* d. Handling unbalanced data using SMOTE\n",
    "* e. Standardize the data using any one of the scalers provided by sklearn"
   ]
  },
  {
   "cell_type": "markdown",
   "metadata": {},
   "source": [
    "**a. Missing Value Analysis**"
   ]
  },
  {
   "cell_type": "code",
   "execution_count": 12,
   "metadata": {},
   "outputs": [
    {
     "data": {
      "text/plain": [
       "age               0\n",
       "job               0\n",
       "marital           0\n",
       "education         0\n",
       "default           0\n",
       "housing           0\n",
       "loan              0\n",
       "contact           0\n",
       "month             0\n",
       "day_of_week       0\n",
       "duration          0\n",
       "campaign          0\n",
       "pdays             0\n",
       "previous          0\n",
       "poutcome          0\n",
       "emp.var.rate      0\n",
       "cons.price.idx    0\n",
       "cons.conf.idx     0\n",
       "euribor3m         0\n",
       "nr.employed       0\n",
       "y                 0\n",
       "dtype: int64"
      ]
     },
     "execution_count": 12,
     "metadata": {},
     "output_type": "execute_result"
    }
   ],
   "source": [
    "# Checking for null data\n",
    "bank_df.isnull().sum()"
   ]
  },
  {
   "cell_type": "code",
   "execution_count": 13,
   "metadata": {},
   "outputs": [
    {
     "name": "stdout",
     "output_type": "stream",
     "text": [
      "{'age': array([56, 57, 37, 40, 45, 59, 41, 24, 25, 29, 35, 54, 46, 50, 39, 30, 55,\n",
      "       49, 34, 52, 58, 32, 38, 44, 42, 60, 53, 47, 51, 48, 33, 31, 43, 36,\n",
      "       28, 27, 26, 22, 23, 20, 21, 61, 19, 18, 70, 66, 76, 67, 73, 88, 95,\n",
      "       77, 68, 75, 63, 80, 62, 65, 72, 82, 64, 71, 69, 78, 85, 79, 83, 81,\n",
      "       74, 17, 87, 91, 86, 98, 94, 84, 92, 89], dtype=int64)}\n",
      "{'job': array(['housemaid', 'services', 'admin.', 'blue-collar', 'technician',\n",
      "       'retired', 'management', 'unemployed', 'self-employed', 'unknown',\n",
      "       'entrepreneur', 'student'], dtype=object)}\n",
      "{'marital': array(['married', 'single', 'divorced', 'unknown'], dtype=object)}\n",
      "{'education': array(['basic.4y', 'high.school', 'basic.6y', 'basic.9y',\n",
      "       'professional.course', 'unknown', 'university.degree',\n",
      "       'illiterate'], dtype=object)}\n",
      "{'default': array(['no', 'unknown', 'yes'], dtype=object)}\n",
      "{'housing': array(['no', 'yes', 'unknown'], dtype=object)}\n",
      "{'loan': array(['no', 'yes', 'unknown'], dtype=object)}\n",
      "{'contact': array(['telephone', 'cellular'], dtype=object)}\n",
      "{'month': array(['may', 'jun', 'jul', 'aug', 'oct', 'nov', 'dec', 'mar', 'apr',\n",
      "       'sep'], dtype=object)}\n",
      "{'day_of_week': array(['mon', 'tue', 'wed', 'thu', 'fri'], dtype=object)}\n",
      "{'duration': array([ 261,  149,  226, ..., 1246, 1556, 1868], dtype=int64)}\n",
      "{'campaign': array([ 1,  2,  3,  4,  5,  6,  7,  8,  9, 10, 11, 12, 13, 19, 18, 23, 14,\n",
      "       22, 25, 16, 17, 15, 20, 56, 39, 35, 42, 28, 26, 27, 32, 21, 24, 29,\n",
      "       31, 30, 41, 37, 40, 33, 34, 43], dtype=int64)}\n",
      "{'pdays': array([999,   6,   4,   3,   5,   1,   0,  10,   7,   8,   9,  11,   2,\n",
      "        12,  13,  14,  15,  16,  21,  17,  18,  22,  25,  26,  19,  27,\n",
      "        20], dtype=int64)}\n",
      "{'previous': array([0, 1, 2, 3, 4, 5, 6, 7], dtype=int64)}\n",
      "{'poutcome': array(['nonexistent', 'failure', 'success'], dtype=object)}\n",
      "{'emp.var.rate': array([ 1.1,  1.4, -0.1, -0.2, -1.8, -2.9, -3.4, -3. , -1.7, -1.1])}\n",
      "{'cons.price.idx': array([93.994, 94.465, 93.918, 93.444, 93.798, 93.2  , 92.756, 92.843,\n",
      "       93.075, 92.893, 92.963, 92.469, 92.201, 92.379, 92.431, 92.649,\n",
      "       92.713, 93.369, 93.749, 93.876, 94.055, 94.215, 94.027, 94.199,\n",
      "       94.601, 94.767])}\n",
      "{'cons.conf.idx': array([-36.4, -41.8, -42.7, -36.1, -40.4, -42. , -45.9, -50. , -47.1,\n",
      "       -46.2, -40.8, -33.6, -31.4, -29.8, -26.9, -30.1, -33. , -34.8,\n",
      "       -34.6, -40. , -39.8, -40.3, -38.3, -37.5, -49.5, -50.8])}\n",
      "{'euribor3m': array([4.857, 4.856, 4.855, 4.859, 4.86 , 4.858, 4.864, 4.865, 4.866,\n",
      "       4.967, 4.961, 4.959, 4.958, 4.96 , 4.962, 4.955, 4.947, 4.956,\n",
      "       4.966, 4.963, 4.957, 4.968, 4.97 , 4.965, 4.964, 5.045, 5.   ,\n",
      "       4.936, 4.921, 4.918, 4.912, 4.827, 4.794, 4.76 , 4.733, 4.7  ,\n",
      "       4.663, 4.592, 4.474, 4.406, 4.343, 4.286, 4.245, 4.223, 4.191,\n",
      "       4.153, 4.12 , 4.076, 4.021, 3.901, 3.879, 3.853, 3.816, 3.743,\n",
      "       3.669, 3.563, 3.488, 3.428, 3.329, 3.282, 3.053, 1.811, 1.799,\n",
      "       1.778, 1.757, 1.726, 1.703, 1.687, 1.663, 1.65 , 1.64 , 1.629,\n",
      "       1.614, 1.602, 1.584, 1.574, 1.56 , 1.556, 1.548, 1.538, 1.531,\n",
      "       1.52 , 1.51 , 1.498, 1.483, 1.479, 1.466, 1.453, 1.445, 1.435,\n",
      "       1.423, 1.415, 1.41 , 1.405, 1.406, 1.4  , 1.392, 1.384, 1.372,\n",
      "       1.365, 1.354, 1.344, 1.334, 1.327, 1.313, 1.299, 1.291, 1.281,\n",
      "       1.266, 1.25 , 1.244, 1.259, 1.264, 1.27 , 1.262, 1.26 , 1.268,\n",
      "       1.286, 1.252, 1.235, 1.224, 1.215, 1.206, 1.099, 1.085, 1.072,\n",
      "       1.059, 1.048, 1.044, 1.029, 1.018, 1.007, 0.996, 0.979, 0.969,\n",
      "       0.944, 0.937, 0.933, 0.927, 0.921, 0.914, 0.908, 0.903, 0.899,\n",
      "       0.884, 0.883, 0.881, 0.879, 0.873, 0.869, 0.861, 0.859, 0.854,\n",
      "       0.851, 0.849, 0.843, 0.838, 0.834, 0.829, 0.825, 0.821, 0.819,\n",
      "       0.813, 0.809, 0.803, 0.797, 0.788, 0.781, 0.778, 0.773, 0.771,\n",
      "       0.77 , 0.768, 0.766, 0.762, 0.755, 0.749, 0.743, 0.741, 0.739,\n",
      "       0.75 , 0.753, 0.754, 0.752, 0.744, 0.74 , 0.742, 0.737, 0.735,\n",
      "       0.733, 0.73 , 0.731, 0.728, 0.724, 0.722, 0.72 , 0.719, 0.716,\n",
      "       0.715, 0.714, 0.718, 0.721, 0.717, 0.712, 0.71 , 0.709, 0.708,\n",
      "       0.706, 0.707, 0.7  , 0.655, 0.654, 0.653, 0.652, 0.651, 0.65 ,\n",
      "       0.649, 0.646, 0.644, 0.643, 0.639, 0.637, 0.635, 0.636, 0.634,\n",
      "       0.638, 0.64 , 0.642, 0.645, 0.659, 0.663, 0.668, 0.672, 0.677,\n",
      "       0.682, 0.683, 0.684, 0.685, 0.688, 0.69 , 0.692, 0.695, 0.697,\n",
      "       0.699, 0.701, 0.702, 0.704, 0.711, 0.713, 0.723, 0.727, 0.729,\n",
      "       0.732, 0.748, 0.761, 0.767, 0.782, 0.79 , 0.793, 0.802, 0.81 ,\n",
      "       0.822, 0.827, 0.835, 0.84 , 0.846, 0.87 , 0.876, 0.885, 0.889,\n",
      "       0.893, 0.896, 0.898, 0.9  , 0.904, 0.905, 0.895, 0.894, 0.891,\n",
      "       0.89 , 0.888, 0.886, 0.882, 0.88 , 0.878, 0.877, 0.942, 0.953,\n",
      "       0.956, 0.959, 0.965, 0.972, 0.977, 0.982, 0.985, 0.987, 0.993,\n",
      "       1.   , 1.008, 1.016, 1.025, 1.032, 1.037, 1.043, 1.045, 1.047,\n",
      "       1.05 , 1.049, 1.046, 1.041, 1.04 , 1.039, 1.035, 1.03 , 1.031,\n",
      "       1.028])}\n",
      "{'nr.employed': array([5191. , 5228.1, 5195.8, 5176.3, 5099.1, 5076.2, 5017.5, 5023.5,\n",
      "       5008.7, 4991.6, 4963.6])}\n",
      "{'y': array(['no', 'yes'], dtype=object)}\n"
     ]
    }
   ],
   "source": [
    "for x in bank_df.columns:\n",
    "    print({x:bank_df[x].unique()})\n",
    "    \n",
    "# Here we try to check all unique values in every field to see if missing values are present as special-characters(\"?\")"
   ]
  },
  {
   "cell_type": "code",
   "execution_count": 14,
   "metadata": {},
   "outputs": [
    {
     "data": {
      "text/plain": [
       "12"
      ]
     },
     "execution_count": 14,
     "metadata": {},
     "output_type": "execute_result"
    }
   ],
   "source": [
    "bank_df.duplicated().sum()"
   ]
  },
  {
   "cell_type": "code",
   "execution_count": 15,
   "metadata": {},
   "outputs": [
    {
     "data": {
      "text/plain": [
       "(41176, 21)"
      ]
     },
     "execution_count": 15,
     "metadata": {},
     "output_type": "execute_result"
    }
   ],
   "source": [
    "bank_df.drop_duplicates(inplace=True)\n",
    "bank_df.shape"
   ]
  },
  {
   "cell_type": "markdown",
   "metadata": {},
   "source": [
    "* We confirm that there are no missing values or special characters (wrong data/\"?\"), in our data.\n",
    "* There were 12 duplicate records and we dropped them, as very small data loss."
   ]
  },
  {
   "cell_type": "markdown",
   "metadata": {},
   "source": [
    "**b. Label Encoding wherever required**"
   ]
  },
  {
   "cell_type": "code",
   "execution_count": 16,
   "metadata": {},
   "outputs": [
    {
     "name": "stdout",
     "output_type": "stream",
     "text": [
      "Feature job :\n",
      "mapping {'admin.': 0, 'blue-collar': 1, 'entrepreneur': 2, 'housemaid': 3, 'management': 4, 'retired': 5, 'self-employed': 6, 'services': 7, 'student': 8, 'technician': 9, 'unemployed': 10, 'unknown': 11}\n",
      "Feature marital :\n",
      "mapping {'divorced': 0, 'married': 1, 'single': 2, 'unknown': 3}\n",
      "Feature education :\n",
      "mapping {'basic.4y': 0, 'basic.6y': 1, 'basic.9y': 2, 'high.school': 3, 'illiterate': 4, 'professional.course': 5, 'university.degree': 6, 'unknown': 7}\n",
      "Feature default :\n",
      "mapping {'no': 0, 'unknown': 1, 'yes': 2}\n",
      "Feature housing :\n",
      "mapping {'no': 0, 'unknown': 1, 'yes': 2}\n",
      "Feature loan :\n",
      "mapping {'no': 0, 'unknown': 1, 'yes': 2}\n",
      "Feature contact :\n",
      "mapping {'cellular': 0, 'telephone': 1}\n",
      "Feature month :\n",
      "mapping {'apr': 0, 'aug': 1, 'dec': 2, 'jul': 3, 'jun': 4, 'mar': 5, 'may': 6, 'nov': 7, 'oct': 8, 'sep': 9}\n",
      "Feature day_of_week :\n",
      "mapping {'fri': 0, 'mon': 1, 'thu': 2, 'tue': 3, 'wed': 4}\n",
      "Feature poutcome :\n",
      "mapping {'failure': 0, 'nonexistent': 1, 'success': 2}\n",
      "Feature y :\n",
      "mapping {'no': 0, 'yes': 1}\n"
     ]
    }
   ],
   "source": [
    "# creating X(Independent Variables) and Y(Dependent Variable)\n",
    "\n",
    "from sklearn.preprocessing import LabelEncoder\n",
    "\n",
    "le = LabelEncoder()\n",
    "\n",
    "for x in colname_object:\n",
    "    bank_df[x] = le.fit_transform(bank_df[x])\n",
    "    le_name_mapping = dict(zip(le.classes_, le.transform(le.classes_)))\n",
    "    print('Feature', x, \":\")\n",
    "    print('mapping', le_name_mapping)"
   ]
  },
  {
   "cell_type": "code",
   "execution_count": 17,
   "metadata": {},
   "outputs": [
    {
     "name": "stdout",
     "output_type": "stream",
     "text": [
      "age                 int64\n",
      "job                 int32\n",
      "marital             int32\n",
      "education           int32\n",
      "default             int32\n",
      "housing             int32\n",
      "loan                int32\n",
      "contact             int32\n",
      "month               int32\n",
      "day_of_week         int32\n",
      "duration            int64\n",
      "campaign            int64\n",
      "pdays               int64\n",
      "previous            int64\n",
      "poutcome            int32\n",
      "emp.var.rate      float64\n",
      "cons.price.idx    float64\n",
      "cons.conf.idx     float64\n",
      "euribor3m         float64\n",
      "nr.employed       float64\n",
      "y                   int32\n",
      "dtype: object\n"
     ]
    },
    {
     "data": {
      "text/html": [
       "<div>\n",
       "<style scoped>\n",
       "    .dataframe tbody tr th:only-of-type {\n",
       "        vertical-align: middle;\n",
       "    }\n",
       "\n",
       "    .dataframe tbody tr th {\n",
       "        vertical-align: top;\n",
       "    }\n",
       "\n",
       "    .dataframe thead th {\n",
       "        text-align: right;\n",
       "    }\n",
       "</style>\n",
       "<table border=\"1\" class=\"dataframe\">\n",
       "  <thead>\n",
       "    <tr style=\"text-align: right;\">\n",
       "      <th></th>\n",
       "      <th>age</th>\n",
       "      <th>job</th>\n",
       "      <th>marital</th>\n",
       "      <th>education</th>\n",
       "      <th>default</th>\n",
       "      <th>housing</th>\n",
       "      <th>loan</th>\n",
       "      <th>contact</th>\n",
       "      <th>month</th>\n",
       "      <th>day_of_week</th>\n",
       "      <th>duration</th>\n",
       "      <th>campaign</th>\n",
       "      <th>pdays</th>\n",
       "      <th>previous</th>\n",
       "      <th>poutcome</th>\n",
       "      <th>emp.var.rate</th>\n",
       "      <th>cons.price.idx</th>\n",
       "      <th>cons.conf.idx</th>\n",
       "      <th>euribor3m</th>\n",
       "      <th>nr.employed</th>\n",
       "      <th>y</th>\n",
       "    </tr>\n",
       "  </thead>\n",
       "  <tbody>\n",
       "    <tr>\n",
       "      <th>0</th>\n",
       "      <td>56</td>\n",
       "      <td>3</td>\n",
       "      <td>1</td>\n",
       "      <td>0</td>\n",
       "      <td>0</td>\n",
       "      <td>0</td>\n",
       "      <td>0</td>\n",
       "      <td>1</td>\n",
       "      <td>6</td>\n",
       "      <td>1</td>\n",
       "      <td>261</td>\n",
       "      <td>1</td>\n",
       "      <td>999</td>\n",
       "      <td>0</td>\n",
       "      <td>1</td>\n",
       "      <td>1.1</td>\n",
       "      <td>93.994</td>\n",
       "      <td>-36.4</td>\n",
       "      <td>4.857</td>\n",
       "      <td>5191.0</td>\n",
       "      <td>0</td>\n",
       "    </tr>\n",
       "    <tr>\n",
       "      <th>1</th>\n",
       "      <td>57</td>\n",
       "      <td>7</td>\n",
       "      <td>1</td>\n",
       "      <td>3</td>\n",
       "      <td>1</td>\n",
       "      <td>0</td>\n",
       "      <td>0</td>\n",
       "      <td>1</td>\n",
       "      <td>6</td>\n",
       "      <td>1</td>\n",
       "      <td>149</td>\n",
       "      <td>1</td>\n",
       "      <td>999</td>\n",
       "      <td>0</td>\n",
       "      <td>1</td>\n",
       "      <td>1.1</td>\n",
       "      <td>93.994</td>\n",
       "      <td>-36.4</td>\n",
       "      <td>4.857</td>\n",
       "      <td>5191.0</td>\n",
       "      <td>0</td>\n",
       "    </tr>\n",
       "    <tr>\n",
       "      <th>2</th>\n",
       "      <td>37</td>\n",
       "      <td>7</td>\n",
       "      <td>1</td>\n",
       "      <td>3</td>\n",
       "      <td>0</td>\n",
       "      <td>2</td>\n",
       "      <td>0</td>\n",
       "      <td>1</td>\n",
       "      <td>6</td>\n",
       "      <td>1</td>\n",
       "      <td>226</td>\n",
       "      <td>1</td>\n",
       "      <td>999</td>\n",
       "      <td>0</td>\n",
       "      <td>1</td>\n",
       "      <td>1.1</td>\n",
       "      <td>93.994</td>\n",
       "      <td>-36.4</td>\n",
       "      <td>4.857</td>\n",
       "      <td>5191.0</td>\n",
       "      <td>0</td>\n",
       "    </tr>\n",
       "    <tr>\n",
       "      <th>3</th>\n",
       "      <td>40</td>\n",
       "      <td>0</td>\n",
       "      <td>1</td>\n",
       "      <td>1</td>\n",
       "      <td>0</td>\n",
       "      <td>0</td>\n",
       "      <td>0</td>\n",
       "      <td>1</td>\n",
       "      <td>6</td>\n",
       "      <td>1</td>\n",
       "      <td>151</td>\n",
       "      <td>1</td>\n",
       "      <td>999</td>\n",
       "      <td>0</td>\n",
       "      <td>1</td>\n",
       "      <td>1.1</td>\n",
       "      <td>93.994</td>\n",
       "      <td>-36.4</td>\n",
       "      <td>4.857</td>\n",
       "      <td>5191.0</td>\n",
       "      <td>0</td>\n",
       "    </tr>\n",
       "    <tr>\n",
       "      <th>4</th>\n",
       "      <td>56</td>\n",
       "      <td>7</td>\n",
       "      <td>1</td>\n",
       "      <td>3</td>\n",
       "      <td>0</td>\n",
       "      <td>0</td>\n",
       "      <td>2</td>\n",
       "      <td>1</td>\n",
       "      <td>6</td>\n",
       "      <td>1</td>\n",
       "      <td>307</td>\n",
       "      <td>1</td>\n",
       "      <td>999</td>\n",
       "      <td>0</td>\n",
       "      <td>1</td>\n",
       "      <td>1.1</td>\n",
       "      <td>93.994</td>\n",
       "      <td>-36.4</td>\n",
       "      <td>4.857</td>\n",
       "      <td>5191.0</td>\n",
       "      <td>0</td>\n",
       "    </tr>\n",
       "  </tbody>\n",
       "</table>\n",
       "</div>"
      ],
      "text/plain": [
       "   age  job  marital  education  default  housing  loan  contact  month  \\\n",
       "0   56    3        1          0        0        0     0        1      6   \n",
       "1   57    7        1          3        1        0     0        1      6   \n",
       "2   37    7        1          3        0        2     0        1      6   \n",
       "3   40    0        1          1        0        0     0        1      6   \n",
       "4   56    7        1          3        0        0     2        1      6   \n",
       "\n",
       "   day_of_week  duration  campaign  pdays  previous  poutcome  emp.var.rate  \\\n",
       "0            1       261         1    999         0         1           1.1   \n",
       "1            1       149         1    999         0         1           1.1   \n",
       "2            1       226         1    999         0         1           1.1   \n",
       "3            1       151         1    999         0         1           1.1   \n",
       "4            1       307         1    999         0         1           1.1   \n",
       "\n",
       "   cons.price.idx  cons.conf.idx  euribor3m  nr.employed  y  \n",
       "0          93.994          -36.4      4.857       5191.0  0  \n",
       "1          93.994          -36.4      4.857       5191.0  0  \n",
       "2          93.994          -36.4      4.857       5191.0  0  \n",
       "3          93.994          -36.4      4.857       5191.0  0  \n",
       "4          93.994          -36.4      4.857       5191.0  0  "
      ]
     },
     "execution_count": 17,
     "metadata": {},
     "output_type": "execute_result"
    }
   ],
   "source": [
    "print(bank_df.dtypes)\n",
    "bank_df.head()"
   ]
  },
  {
   "cell_type": "markdown",
   "metadata": {},
   "source": [
    "We confirm that we only have numerical variables in the data."
   ]
  },
  {
   "cell_type": "markdown",
   "metadata": {},
   "source": [
    "**c. Selecting important features based on Random Forest**"
   ]
  },
  {
   "cell_type": "code",
   "execution_count": 18,
   "metadata": {},
   "outputs": [
    {
     "data": {
      "text/html": [
       "<style  type=\"text/css\" >\n",
       "</style><table id=\"T_dc73875e_3a69_11ee_81d2_dd4769662b80\" ><thead>    <tr>        <th class=\"col_heading level0 col0\" >Feature</th>        <th class=\"col_heading level0 col1\" >Importance</th>    </tr></thead><tbody>\n",
       "                <tr>\n",
       "                                <td id=\"T_dc73875e_3a69_11ee_81d2_dd4769662b80row0_col0\" class=\"data row0 col0\" >duration</td>\n",
       "                        <td id=\"T_dc73875e_3a69_11ee_81d2_dd4769662b80row0_col1\" class=\"data row0 col1\" >0.319919</td>\n",
       "            </tr>\n",
       "            <tr>\n",
       "                                <td id=\"T_dc73875e_3a69_11ee_81d2_dd4769662b80row1_col0\" class=\"data row1 col0\" >euribor3m</td>\n",
       "                        <td id=\"T_dc73875e_3a69_11ee_81d2_dd4769662b80row1_col1\" class=\"data row1 col1\" >0.105372</td>\n",
       "            </tr>\n",
       "            <tr>\n",
       "                                <td id=\"T_dc73875e_3a69_11ee_81d2_dd4769662b80row2_col0\" class=\"data row2 col0\" >age</td>\n",
       "                        <td id=\"T_dc73875e_3a69_11ee_81d2_dd4769662b80row2_col1\" class=\"data row2 col1\" >0.092248</td>\n",
       "            </tr>\n",
       "            <tr>\n",
       "                                <td id=\"T_dc73875e_3a69_11ee_81d2_dd4769662b80row3_col0\" class=\"data row3 col0\" >nr.employed</td>\n",
       "                        <td id=\"T_dc73875e_3a69_11ee_81d2_dd4769662b80row3_col1\" class=\"data row3 col1\" >0.067681</td>\n",
       "            </tr>\n",
       "            <tr>\n",
       "                                <td id=\"T_dc73875e_3a69_11ee_81d2_dd4769662b80row4_col0\" class=\"data row4 col0\" >job</td>\n",
       "                        <td id=\"T_dc73875e_3a69_11ee_81d2_dd4769662b80row4_col1\" class=\"data row4 col1\" >0.048100</td>\n",
       "            </tr>\n",
       "            <tr>\n",
       "                                <td id=\"T_dc73875e_3a69_11ee_81d2_dd4769662b80row5_col0\" class=\"data row5 col0\" >education</td>\n",
       "                        <td id=\"T_dc73875e_3a69_11ee_81d2_dd4769662b80row5_col1\" class=\"data row5 col1\" >0.041969</td>\n",
       "            </tr>\n",
       "            <tr>\n",
       "                                <td id=\"T_dc73875e_3a69_11ee_81d2_dd4769662b80row6_col0\" class=\"data row6 col0\" >campaign</td>\n",
       "                        <td id=\"T_dc73875e_3a69_11ee_81d2_dd4769662b80row6_col1\" class=\"data row6 col1\" >0.041683</td>\n",
       "            </tr>\n",
       "            <tr>\n",
       "                                <td id=\"T_dc73875e_3a69_11ee_81d2_dd4769662b80row7_col0\" class=\"data row7 col0\" >day_of_week</td>\n",
       "                        <td id=\"T_dc73875e_3a69_11ee_81d2_dd4769662b80row7_col1\" class=\"data row7 col1\" >0.039350</td>\n",
       "            </tr>\n",
       "            <tr>\n",
       "                                <td id=\"T_dc73875e_3a69_11ee_81d2_dd4769662b80row8_col0\" class=\"data row8 col0\" >pdays</td>\n",
       "                        <td id=\"T_dc73875e_3a69_11ee_81d2_dd4769662b80row8_col1\" class=\"data row8 col1\" >0.033166</td>\n",
       "            </tr>\n",
       "            <tr>\n",
       "                                <td id=\"T_dc73875e_3a69_11ee_81d2_dd4769662b80row9_col0\" class=\"data row9 col0\" >poutcome</td>\n",
       "                        <td id=\"T_dc73875e_3a69_11ee_81d2_dd4769662b80row9_col1\" class=\"data row9 col1\" >0.032664</td>\n",
       "            </tr>\n",
       "            <tr>\n",
       "                                <td id=\"T_dc73875e_3a69_11ee_81d2_dd4769662b80row10_col0\" class=\"data row10 col0\" >cons.conf.idx</td>\n",
       "                        <td id=\"T_dc73875e_3a69_11ee_81d2_dd4769662b80row10_col1\" class=\"data row10 col1\" >0.028914</td>\n",
       "            </tr>\n",
       "            <tr>\n",
       "                                <td id=\"T_dc73875e_3a69_11ee_81d2_dd4769662b80row11_col0\" class=\"data row11 col0\" >marital</td>\n",
       "                        <td id=\"T_dc73875e_3a69_11ee_81d2_dd4769662b80row11_col1\" class=\"data row11 col1\" >0.023318</td>\n",
       "            </tr>\n",
       "            <tr>\n",
       "                                <td id=\"T_dc73875e_3a69_11ee_81d2_dd4769662b80row12_col0\" class=\"data row12 col0\" >cons.price.idx</td>\n",
       "                        <td id=\"T_dc73875e_3a69_11ee_81d2_dd4769662b80row12_col1\" class=\"data row12 col1\" >0.021120</td>\n",
       "            </tr>\n",
       "            <tr>\n",
       "                                <td id=\"T_dc73875e_3a69_11ee_81d2_dd4769662b80row13_col0\" class=\"data row13 col0\" >housing</td>\n",
       "                        <td id=\"T_dc73875e_3a69_11ee_81d2_dd4769662b80row13_col1\" class=\"data row13 col1\" >0.020246</td>\n",
       "            </tr>\n",
       "            <tr>\n",
       "                                <td id=\"T_dc73875e_3a69_11ee_81d2_dd4769662b80row14_col0\" class=\"data row14 col0\" >emp.var.rate</td>\n",
       "                        <td id=\"T_dc73875e_3a69_11ee_81d2_dd4769662b80row14_col1\" class=\"data row14 col1\" >0.020147</td>\n",
       "            </tr>\n",
       "            <tr>\n",
       "                                <td id=\"T_dc73875e_3a69_11ee_81d2_dd4769662b80row15_col0\" class=\"data row15 col0\" >month</td>\n",
       "                        <td id=\"T_dc73875e_3a69_11ee_81d2_dd4769662b80row15_col1\" class=\"data row15 col1\" >0.018113</td>\n",
       "            </tr>\n",
       "            <tr>\n",
       "                                <td id=\"T_dc73875e_3a69_11ee_81d2_dd4769662b80row16_col0\" class=\"data row16 col0\" >loan</td>\n",
       "                        <td id=\"T_dc73875e_3a69_11ee_81d2_dd4769662b80row16_col1\" class=\"data row16 col1\" >0.015267</td>\n",
       "            </tr>\n",
       "            <tr>\n",
       "                                <td id=\"T_dc73875e_3a69_11ee_81d2_dd4769662b80row17_col0\" class=\"data row17 col0\" >previous</td>\n",
       "                        <td id=\"T_dc73875e_3a69_11ee_81d2_dd4769662b80row17_col1\" class=\"data row17 col1\" >0.012320</td>\n",
       "            </tr>\n",
       "            <tr>\n",
       "                                <td id=\"T_dc73875e_3a69_11ee_81d2_dd4769662b80row18_col0\" class=\"data row18 col0\" >contact</td>\n",
       "                        <td id=\"T_dc73875e_3a69_11ee_81d2_dd4769662b80row18_col1\" class=\"data row18 col1\" >0.009710</td>\n",
       "            </tr>\n",
       "            <tr>\n",
       "                                <td id=\"T_dc73875e_3a69_11ee_81d2_dd4769662b80row19_col0\" class=\"data row19 col0\" >default</td>\n",
       "                        <td id=\"T_dc73875e_3a69_11ee_81d2_dd4769662b80row19_col1\" class=\"data row19 col1\" >0.008693</td>\n",
       "            </tr>\n",
       "    </tbody></table>"
      ],
      "text/plain": [
       "<pandas.io.formats.style.Styler at 0x1e12895a1c8>"
      ]
     },
     "execution_count": 18,
     "metadata": {},
     "output_type": "execute_result"
    }
   ],
   "source": [
    "# Creating X(Independent) and Y (Dependent) varialbes\n",
    "X=bank_df.values[:,0:-1]\n",
    "Y=bank_df.values[:,-1]\n",
    "\n",
    "# Splitting the data into test and train data sets.\n",
    "from sklearn.model_selection import train_test_split\n",
    "X_train, X_test, Y_train, Y_test= train_test_split(X, Y, test_size=0.2,random_state=10)\n",
    "\n",
    "# Predicting using the Decision_Tree_Classifier\n",
    "\n",
    "# Creating a model object.\n",
    "\n",
    "from sklearn.tree import DecisionTreeClassifier\n",
    "model_DecisionTree = RandomForestClassifier(n_estimators=100, random_state=10)\n",
    "\n",
    "# Fitting the data into our model and predicting the values.\n",
    "\n",
    "model_DecisionTree.fit(X_train,Y_train)\n",
    "Y_pred = model_DecisionTree.predict(X_test)\n",
    "\n",
    "# Building a DataFrame to view the feature importance and sort for a better visual.\n",
    "\n",
    "feature_imp = pd.DataFrame()\n",
    "feature_imp[\"Feature\"] = bank_df.columns[0:-1]\n",
    "feature_imp[\"Importance\"] = model_DecisionTree.feature_importances_ \n",
    "feature_imp.sort_values(\"Importance\", ascending = False).style.hide_index()"
   ]
  },
  {
   "cell_type": "code",
   "execution_count": 19,
   "metadata": {},
   "outputs": [
    {
     "name": "stdout",
     "output_type": "stream",
     "text": [
      "6.41 %\n"
     ]
    },
    {
     "data": {
      "text/plain": [
       "Index(['age', 'job', 'marital', 'education', 'housing', 'day_of_week',\n",
       "       'duration', 'campaign', 'pdays', 'poutcome', 'emp.var.rate',\n",
       "       'cons.price.idx', 'cons.conf.idx', 'euribor3m', 'nr.employed', 'y'],\n",
       "      dtype='object')"
      ]
     },
     "execution_count": 19,
     "metadata": {},
     "output_type": "execute_result"
    }
   ],
   "source": [
    "# We see that the influence of the least 5 important features, as per Random Forest is:\n",
    "print(round((0.008693+0.009710+0.012320+0.015267+0.018113)*100,2), \"%\")\n",
    "\n",
    "# We choose to drop these 5 features as they influence the output by only 6.41%\n",
    "bank_df.drop([\"default\", \"contact\", \"previous\", \"loan\", \"month\"], axis=1, inplace=True)\n",
    "bank_df.columns"
   ]
  },
  {
   "cell_type": "markdown",
   "metadata": {},
   "source": [
    "**d. Handling unbalanced data using SMOTE**"
   ]
  },
  {
   "cell_type": "code",
   "execution_count": 20,
   "metadata": {},
   "outputs": [
    {
     "name": "stdout",
     "output_type": "stream",
     "text": [
      "Before OverSampling, counts of label '1':  3765\n",
      "Before OverSampling, counts of label '0':  29175\n",
      "After OverSampling, the shape of train_X:  (58350, 15)\n",
      "After OverSampling, the shape of train_y:  (58350,)\n",
      "After OverSampling, counts of label '1':  29175\n",
      "After OverSampling, counts of label '0':  29175\n"
     ]
    }
   ],
   "source": [
    "# Creating X(Independent) and Y (Dependent) varialbes\n",
    "X=bank_df.values[:,0:-1]\n",
    "Y=bank_df.values[:,-1]\n",
    "\n",
    "# Splitting the data into test and train data sets.\n",
    "#from sklearn.model_selection import train_test_split\n",
    "X_train, X_test, Y_train, Y_test= train_test_split(X, Y, test_size=0.2,random_state=10)\n",
    "\n",
    "print(\"Before OverSampling, counts of label '1': \", (sum(Y_train == 1)))\n",
    "print(\"Before OverSampling, counts of label '0': \", (sum(Y_train == 0)))\n",
    "  \n",
    "# import SMOTE from imblearn library\n",
    "from imblearn.over_sampling import SMOTE\n",
    "sm = SMOTE(random_state = 10,k_neighbors=5)\n",
    "X_train_res, Y_train_res = sm.fit_resample(X_train, Y_train)\n",
    "  \n",
    "print('After OverSampling, the shape of train_X: ', (X_train_res.shape))\n",
    "print('After OverSampling, the shape of train_y: ', (Y_train_res.shape))\n",
    "  \n",
    "print(\"After OverSampling, counts of label '1': \", (sum(Y_train_res == 1)))\n",
    "print(\"After OverSampling, counts of label '0': \", (sum(Y_train_res == 0)))"
   ]
  },
  {
   "cell_type": "markdown",
   "metadata": {},
   "source": [
    "**e. Standardize the data using any one of the scalers provided by sklearn**"
   ]
  },
  {
   "cell_type": "code",
   "execution_count": 30,
   "metadata": {},
   "outputs": [],
   "source": [
    "#from sklearn.preprocessing import StandardScaler\n",
    "\n",
    "scaler= StandardScaler()\n",
    "scaler.fit(X_train)\n",
    "X_train_s=scaler.transform(X_train)\n",
    "X_test_s = scaler.transform(X_test)"
   ]
  },
  {
   "cell_type": "markdown",
   "metadata": {},
   "source": [
    "##### Q.3. Build the following Supervised Learning models: 🡪5 marks\n",
    "\ta. Logistic Regression\n",
    "\tb. Decision Trees\n",
    "\tc. Random Forest"
   ]
  },
  {
   "cell_type": "markdown",
   "metadata": {},
   "source": [
    "### a. Logistic Regression"
   ]
  },
  {
   "cell_type": "code",
   "execution_count": 31,
   "metadata": {},
   "outputs": [
    {
     "name": "stdout",
     "output_type": "stream",
     "text": [
      "Confusion Matrix: \n",
      " [[6170 1192]\n",
      " [ 134  740]]\n",
      "\n",
      " Accuracy of the model:  0.8389995143273433\n",
      "\n",
      "\n",
      " Classification Report: \n",
      "               precision    recall  f1-score   support\n",
      "\n",
      "         0.0       0.98      0.84      0.90      7362\n",
      "         1.0       0.38      0.85      0.53       874\n",
      "\n",
      "    accuracy                           0.84      8236\n",
      "   macro avg       0.68      0.84      0.72      8236\n",
      "weighted avg       0.92      0.84      0.86      8236\n",
      "\n"
     ]
    }
   ],
   "source": [
    "# logistic regression object\n",
    "\n",
    "lr = LogisticRegression()\n",
    "  \n",
    "# train the model on train set\n",
    "lr.fit(X_train_res, Y_train_res)\n",
    "  \n",
    "Y_pred = lr.predict(X_test)\n",
    "\n",
    "# Evaluating metrics:\n",
    "\n",
    "cfm = confusion_matrix(Y_test, Y_pred)\n",
    "print(\"Confusion Matrix: \\n\", cfm)\n",
    "\n",
    "acc = accuracy_score(Y_test,Y_pred)\n",
    "print(\"\\n Accuracy of the model: \", acc)\n",
    "\n",
    "Report = classification_report(Y_test,Y_pred)\n",
    "print(\"\\n\\n Classification Report: \\n\", Report)"
   ]
  },
  {
   "cell_type": "markdown",
   "metadata": {},
   "source": [
    "### b. Decision Trees"
   ]
  },
  {
   "cell_type": "code",
   "execution_count": 32,
   "metadata": {},
   "outputs": [
    {
     "name": "stdout",
     "output_type": "stream",
     "text": [
      "Confusion Matrix: \n",
      " [[6832  530]\n",
      " [ 392  482]]\n",
      "\n",
      " Accuracy of the model:  0.888052452646916\n",
      "\n",
      "\n",
      " Classification Report: \n",
      "               precision    recall  f1-score   support\n",
      "\n",
      "         0.0       0.95      0.93      0.94      7362\n",
      "         1.0       0.48      0.55      0.51       874\n",
      "\n",
      "    accuracy                           0.89      8236\n",
      "   macro avg       0.71      0.74      0.72      8236\n",
      "weighted avg       0.90      0.89      0.89      8236\n",
      "\n"
     ]
    }
   ],
   "source": [
    "# Building a DecisionTreeClassifier model object\n",
    "\n",
    "#from sklearn.tree import DecisionTreeClassifier\n",
    "model_DecisionTree = DecisionTreeClassifier(criterion=\"gini\", random_state=10)\n",
    "\n",
    "# Fitting the model on the data and predict the values\n",
    "\n",
    "model_DecisionTree.fit(X_train_res, Y_train_res)\n",
    "Y_pred = model_DecisionTree.predict(X_test)\n",
    "\n",
    "# Evaluating metrics:\n",
    "\n",
    "cfm = confusion_matrix(Y_test, Y_pred)\n",
    "print(\"Confusion Matrix: \\n\", cfm)\n",
    "\n",
    "acc = accuracy_score(Y_test,Y_pred)\n",
    "print(\"\\n Accuracy of the model: \", acc)\n",
    "\n",
    "Report = classification_report(Y_test,Y_pred)\n",
    "print(\"\\n\\n Classification Report: \\n\", Report)"
   ]
  },
  {
   "cell_type": "markdown",
   "metadata": {},
   "source": [
    "### c. Random Forest"
   ]
  },
  {
   "cell_type": "code",
   "execution_count": 33,
   "metadata": {},
   "outputs": [
    {
     "name": "stdout",
     "output_type": "stream",
     "text": [
      "Confusion Matrix: \n",
      " [[6955  407]\n",
      " [ 357  517]]\n",
      "\n",
      " Accuracy of the model:  0.9072365225837785\n",
      "\n",
      "\n",
      " Classification Report: \n",
      "               precision    recall  f1-score   support\n",
      "\n",
      "         0.0       0.95      0.94      0.95      7362\n",
      "         1.0       0.56      0.59      0.58       874\n",
      "\n",
      "    accuracy                           0.91      8236\n",
      "   macro avg       0.76      0.77      0.76      8236\n",
      "weighted avg       0.91      0.91      0.91      8236\n",
      "\n"
     ]
    }
   ],
   "source": [
    "# Creating a random forest classifier model object.\n",
    "\n",
    "model_DecisionTree = RandomForestClassifier(random_state = 10)\n",
    "\n",
    "# Fitting the model on the data and predict the values\n",
    "\n",
    "model_DecisionTree.fit(X_train_res, Y_train_res)\n",
    "Y_pred = model_DecisionTree.predict(X_test)\n",
    "\n",
    "# Evaluating metrics:\n",
    "\n",
    "cfm = confusion_matrix(Y_test, Y_pred)\n",
    "print(\"Confusion Matrix: \\n\", cfm)\n",
    "\n",
    "acc = accuracy_score(Y_test,Y_pred)\n",
    "print(\"\\n Accuracy of the model: \", acc)\n",
    "\n",
    "Report = classification_report(Y_test,Y_pred)\n",
    "print(\"\\n\\n Classification Report: \\n\", Report)"
   ]
  },
  {
   "cell_type": "markdown",
   "metadata": {},
   "source": [
    "##### Q.4. Tabulate the performance metrics of all the above models, perform tuning of models and tell which model performs better in predicting if the client will subscribe to term deposit or not 🡪10 marks"
   ]
  },
  {
   "cell_type": "markdown",
   "metadata": {},
   "source": [
    "<head>\n",
    "\t<title>Metrics Summary</title> \n",
    "\t<style>\n",
    "\t\ttable td {\n",
    "\t\t\ttext-align:center;\n",
    "\t\t}\n",
    "\t</style>\n",
    "</head>\n",
    "<body>\n",
    "\t<table>\n",
    "\t\t<thead>\n",
    "\t\t\t<tr>\n",
    "                <th><u>Metrics</u></th>\n",
    "                <th><u>Classes</u></th>\n",
    "\t\t\t\t<th>Base LogisticRegression</th>\n",
    "\t\t\t\t<th>Threshold = 0.47</th>\n",
    "\t\t\t\t<th>Using K-Fold</th>\n",
    "\t\t\t\t<th>Stratified K-Fold</th>\n",
    "\t\t\t\t<th>RFE (0.9) </th>\n",
    "                <th>SFS(83.416) </th>\n",
    "                <th>SelectKBest</th>\n",
    "\t\t\t</tr>\n",
    "\t\t</thead>\n",
    "\t\t<tbody>\n",
    "\t\t\t<tr>\n",
    "\t\t\t\t<td>Accuracy</td>\n",
    "\t\t\t\t<td>-</td>\n",
    "\t\t\t\t<td>84.17%</td>\n",
    "\t\t\t\t<td>84.94</td>\n",
    "\t\t\t\t<td>83.90%</td>\n",
    "\t\t\t\t<td>83.86%</td>\n",
    "\t\t\t\t<td>83.95%</td>\n",
    "                <td>83.68%</td>\n",
    "                <td>83.90%</td>\n",
    "\t\t\t</tr>\n",
    "\t\t\t<tr>\n",
    "\t\t\t\t<td>Precision</td>\n",
    "\t\t\t\t<td>class 0</td>\n",
    "\t\t\t\t<td>0.98</td>\n",
    "\t\t\t\t<td>0.86</td>\n",
    "\t\t\t\t<td>0.86</td>\n",
    "\t\t\t\t<td>0.86</td>\n",
    "\t\t\t\t<td>0.86</td>\n",
    "                <td>0.86</td>\n",
    "                <td>0.86</td>\n",
    "\t\t\t</tr>\n",
    "\t\t\t<tr>\n",
    "\t\t\t\t<td>-</td>\n",
    "\t\t\t\t<td>class 1</td>\n",
    "\t\t\t\t<td>0.68</td>\n",
    "\t\t\t\t<td>0.67</td>\n",
    "\t\t\t\t<td>0.69</td>\n",
    "\t\t\t\t<td>0.68</td>\n",
    "\t\t\t\t<td>0.69</td>\n",
    "                <td>0.68</td>\n",
    "                <td>0.69</td>\n",
    "\t\t\t</tr>\n",
    "\t\t\t<tr>\n",
    "\t\t\t\t<td>Recall</td>\n",
    "\t\t\t\t<td>class 0</td>\n",
    "\t\t\t\t<td>0.84</td>\n",
    "\t\t\t\t<td>0.94</td>\n",
    "\t\t\t\t<td>0.95</td>\n",
    "\t\t\t\t<td>0.95</td>\n",
    "\t\t\t\t<td>0.95</td>\n",
    "                <td>0.95</td>\n",
    "                <td>0.95</td>\n",
    "\t\t\t</tr>\n",
    "\t\t\t<tr>\n",
    "\t\t\t\t<td>-</td>\n",
    "\t\t\t\t<td>class 1</td>\n",
    "\t\t\t\t<td>0.84</td>\n",
    "\t\t\t\t<td>0.46</td>\n",
    "\t\t\t\t<td>0.43</td>\n",
    "\t\t\t\t<td>0.43</td>\n",
    "\t\t\t\t<td>0.43</td>\n",
    "                <td>0.43</td>\n",
    "                <td>0.43</td>\n",
    "\t\t\t</tr>\n",
    "\t\t\t<tr>\n",
    "\t\t\t\t<td>F1-Score</td>\n",
    "\t\t\t\t<td>class 0</td>\n",
    "\t\t\t\t<td>0.90</td>\n",
    "\t\t\t\t<td>0.90</td>\n",
    "\t\t\t\t<td>0.90</td>\n",
    "\t\t\t\t<td>0.90</td>\n",
    "\t\t\t\t<td>0.90</td>\n",
    "                <td>0.90</td>\n",
    "                <td>0.90</td>\n",
    "\t\t\t</tr>\n",
    "\t\t\t<tr>\n",
    "\t\t\t\t<td>-</td>\n",
    "\t\t\t\t<td>class 1</td>\n",
    "\t\t\t\t<td>0.53</td>\n",
    "\t\t\t\t<td>0.54</td>\n",
    "\t\t\t\t<td>0.53</td>\n",
    "\t\t\t\t<td>0.53</td>\n",
    "\t\t\t\t<td>0.53</td>\n",
    "                <td>0.52</td>\n",
    "                <td>0.53</td>\n",
    "\t\t\t</tr>\n",
    "\t\t</tbody>\n",
    "\t</table>\n",
    "</body>"
   ]
  },
  {
   "cell_type": "markdown",
   "metadata": {},
   "source": [
    "## Model Tuning"
   ]
  },
  {
   "cell_type": "markdown",
   "metadata": {},
   "source": [
    "### A. Logistic regression"
   ]
  },
  {
   "cell_type": "code",
   "execution_count": 34,
   "metadata": {},
   "outputs": [],
   "source": [
    "# logistic regression object\n",
    "\n",
    "classifier = LogisticRegression()\n",
    "  \n",
    "# train the model on train set\n",
    "classifier.fit(X_train_res, Y_train_res)\n",
    "  \n",
    "# Predicting using .predict_proba and storing the predicted probabilities\n",
    "\n",
    "y_pred_prob = classifier.predict_proba(X_test)\n",
    "#print(y_pred_prob)"
   ]
  },
  {
   "cell_type": "code",
   "execution_count": 35,
   "metadata": {},
   "outputs": [
    {
     "name": "stdout",
     "output_type": "stream",
     "text": [
      "Errors at threshold  0.4 : 1597  , type 2 error: 90  , type 1 error : 1507\n",
      "Errors at threshold  0.41000000000000003 : 1563  , type 2 error: 92  , type 1 error : 1471\n",
      "Errors at threshold  0.42000000000000004 : 1544  , type 2 error: 99  , type 1 error : 1445\n",
      "Errors at threshold  0.43000000000000005 : 1516  , type 2 error: 103  , type 1 error : 1413\n",
      "Errors at threshold  0.44000000000000006 : 1483  , type 2 error: 105  , type 1 error : 1378\n",
      "Errors at threshold  0.45000000000000007 : 1458  , type 2 error: 108  , type 1 error : 1350\n",
      "Errors at threshold  0.4600000000000001 : 1439  , type 2 error: 112  , type 1 error : 1327\n",
      "Errors at threshold  0.4700000000000001 : 1402  , type 2 error: 117  , type 1 error : 1285\n",
      "Errors at threshold  0.4800000000000001 : 1378  , type 2 error: 122  , type 1 error : 1256\n",
      "Errors at threshold  0.4900000000000001 : 1351  , type 2 error: 129  , type 1 error : 1222\n",
      "Errors at threshold  0.5000000000000001 : 1326  , type 2 error: 134  , type 1 error : 1192\n",
      "Errors at threshold  0.5100000000000001 : 1307  , type 2 error: 142  , type 1 error : 1165\n",
      "Errors at threshold  0.5200000000000001 : 1271  , type 2 error: 146  , type 1 error : 1125\n",
      "Errors at threshold  0.5300000000000001 : 1252  , type 2 error: 150  , type 1 error : 1102\n",
      "Errors at threshold  0.5400000000000001 : 1226  , type 2 error: 152  , type 1 error : 1074\n",
      "Errors at threshold  0.5500000000000002 : 1205  , type 2 error: 157  , type 1 error : 1048\n",
      "Errors at threshold  0.5600000000000002 : 1187  , type 2 error: 166  , type 1 error : 1021\n",
      "Errors at threshold  0.5700000000000002 : 1166  , type 2 error: 171  , type 1 error : 995\n",
      "Errors at threshold  0.5800000000000002 : 1138  , type 2 error: 177  , type 1 error : 961\n",
      "Errors at threshold  0.5900000000000002 : 1120  , type 2 error: 182  , type 1 error : 938\n",
      "Errors at threshold  0.6000000000000002 : 1088  , type 2 error: 184  , type 1 error : 904\n"
     ]
    }
   ],
   "source": [
    "# Adjusting the threshold\n",
    "\n",
    "# printing type I and type II errors for every threshold in range (0.4-0.6)\n",
    "\n",
    "least_error = []\n",
    "type_1 = []\n",
    "type_2 = []\n",
    "\n",
    "for a in np.arange(0.4,0.61,0.01):\n",
    "    predict_mine = np.where(y_pred_prob[:,1] > a, 1, 0)\n",
    "    cfm = confusion_matrix(Y_test, predict_mine)\n",
    "    total_err = cfm[0,1]+cfm[1,0]\n",
    "    type_1.append(cfm[0,1])\n",
    "    type_2.append(cfm[1,0])\n",
    "    least_error.append(total_err)\n",
    "    print(\"Errors at threshold \", a, \":\", total_err, \" , type 2 error:\", cfm[1,0],\" , type 1 error :\", cfm[0,1])"
   ]
  },
  {
   "cell_type": "code",
   "execution_count": 36,
   "metadata": {},
   "outputs": [
    {
     "name": "stdout",
     "output_type": "stream",
     "text": [
      "Total errors: [1088, 1120, 1138, 1166, 1187, 1205, 1226, 1252, 1271, 1307, 1326, 1351, 1378, 1402, 1439, 1458, 1483, 1516, 1544, 1563, 1597] \n",
      "\n",
      "Type 2 errors: [90, 92, 99, 103, 105, 108, 112, 117, 122, 129, 134, 142, 146, 150, 152, 157, 166, 171, 177, 182, 184] \n",
      "\n",
      "Type 1 errors: [904, 938, 961, 995, 1021, 1048, 1074, 1102, 1125, 1165, 1192, 1222, 1256, 1285, 1327, 1350, 1378, 1413, 1445, 1471, 1507] \n",
      "\n",
      "Least total error: 1088\n",
      "Least type 2 error: 90\n",
      "Least type 1 error: 904\n"
     ]
    }
   ],
   "source": [
    "# Sorting our errors in ascending order\n",
    "least_error.sort()\n",
    "type_2.sort()\n",
    "type_1.sort()\n",
    "\n",
    "# Displaying errors in ascending order\n",
    "\n",
    "print(\"Total errors:\", least_error, \"\\n\")\n",
    "print(\"Type 2 errors:\", type_2, \"\\n\")\n",
    "print(\"Type 1 errors:\", type_1, \"\\n\")\n",
    "\n",
    "# Finding least errors\n",
    "\n",
    "print(\"Least total error:\", min(least_error))\n",
    "print(\"Least type 2 error:\", min(type_2))\n",
    "print(\"Least type 1 error:\", min(type_1))"
   ]
  },
  {
   "cell_type": "code",
   "execution_count": 37,
   "metadata": {},
   "outputs": [
    {
     "name": "stdout",
     "output_type": "stream",
     "text": [
      "Confusion Matrix: \n",
      "\n",
      " [[6458  904]\n",
      " [ 184  690]]\n",
      "\n",
      " Accuracy of the model:  0.8678970373967946\n",
      "\n",
      "\n",
      " Classification Report: \n",
      "\n",
      "               precision    recall  f1-score   support\n",
      "\n",
      "         0.0       0.97      0.88      0.92      7362\n",
      "         1.0       0.43      0.79      0.56       874\n",
      "\n",
      "    accuracy                           0.87      8236\n",
      "   macro avg       0.70      0.83      0.74      8236\n",
      "weighted avg       0.92      0.87      0.88      8236\n",
      "\n"
     ]
    }
   ],
   "source": [
    "# We consider threshold as 0.6 and predict.\n",
    "\n",
    "y_pred_class = []\n",
    "for value in y_pred_prob[:,1]:\n",
    "    if value > 0.6:\n",
    "        y_pred_class.append(1)\n",
    "    else:\n",
    "        y_pred_class.append(0)\n",
    "# print(y_pred_class)\n",
    "\n",
    "print(\"Confusion Matrix: \\n\\n\", confusion_matrix(Y_test, y_pred_class)) \n",
    "print(\"\\n Accuracy of the model: \", accuracy_score(Y_test, y_pred_class))\n",
    "print(\"\\n\\n Classification Report: \\n\\n\", classification_report(Y_test, y_pred_class))"
   ]
  },
  {
   "cell_type": "markdown",
   "metadata": {},
   "source": [
    "### Cross validation K-Fold"
   ]
  },
  {
   "cell_type": "code",
   "execution_count": 38,
   "metadata": {},
   "outputs": [
    {
     "name": "stdout",
     "output_type": "stream",
     "text": [
      "\n",
      " K-fold cross-validation Scores: \n",
      " [0.9195507  0.92410443 0.90619308 0.90619308 0.90012143 0.91074681\n",
      " 0.90437158 0.90801457 0.90771099 0.91287189]\n",
      "\n",
      " K-fold cross-validation mean: 0.9099878567091683\n"
     ]
    }
   ],
   "source": [
    "classifier=LogisticRegression()\n",
    "\n",
    "# Performing kfold_cross_validation\n",
    "#from sklearn.model_selection import KFold\n",
    "kfold_cv=KFold(n_splits=10,random_state=10,shuffle=True)\n",
    "# print(kfold_cv)\n",
    "\n",
    "#from sklearn.model_selection import cross_val_score\n",
    "# Running the model using scoring metric as accuracy\n",
    "kfold_cv_result=cross_val_score(estimator=classifier,X=X_train_s, y=Y_train, cv=kfold_cv)\n",
    "\n",
    "print(\"\\n K-fold cross-validation Scores: \\n\",kfold_cv_result)\n",
    "# finding the mean\n",
    "print(\"\\n K-fold cross-validation mean:\", kfold_cv_result.mean())  # Avg of all 10 accuracy scores"
   ]
  },
  {
   "cell_type": "markdown",
   "metadata": {},
   "source": [
    "* This step is not required and is cost expensive.  \n",
    "* We need to skip it as the values are very close.  \n",
    "* This step is to be implemented only when there is a drastic difference (>3%) between the accuracy scores."
   ]
  },
  {
   "cell_type": "markdown",
   "metadata": {},
   "source": [
    "## B. Decision Tree"
   ]
  },
  {
   "cell_type": "code",
   "execution_count": 39,
   "metadata": {},
   "outputs": [
    {
     "name": "stdout",
     "output_type": "stream",
     "text": [
      "Confusion Matrix: \n",
      " [[6333 1029]\n",
      " [ 126  748]]\n",
      "\n",
      " Accuracy of the model:  0.8597620203982516\n",
      "\n",
      "\n",
      " Classification Report: \n",
      "               precision    recall  f1-score   support\n",
      "\n",
      "         0.0       0.98      0.86      0.92      7362\n",
      "         1.0       0.42      0.86      0.56       874\n",
      "\n",
      "    accuracy                           0.86      8236\n",
      "   macro avg       0.70      0.86      0.74      8236\n",
      "weighted avg       0.92      0.86      0.88      8236\n",
      "\n"
     ]
    }
   ],
   "source": [
    "# Building a Pruned DecisionTreeClassifier model object\n",
    "\n",
    "#from sklearn.tree import DecisionTreeClassifier\n",
    "model_DecisionTree = DecisionTreeClassifier(criterion=\"gini\", random_state=10, max_depth=6, min_samples_leaf=5)\n",
    "\n",
    "# Fitting the model on the data and predict the values\n",
    "\n",
    "model_DecisionTree.fit(X_train_res, Y_train_res)\n",
    "Y_pred = model_DecisionTree.predict(X_test)\n",
    "\n",
    "# Evaluating metrics:\n",
    "\n",
    "cfm = confusion_matrix(Y_test, Y_pred)\n",
    "print(\"Confusion Matrix: \\n\", cfm)\n",
    "\n",
    "acc = accuracy_score(Y_test,Y_pred)\n",
    "print(\"\\n Accuracy of the model: \", acc)\n",
    "\n",
    "Report = classification_report(Y_test,Y_pred)\n",
    "print(\"\\n\\n Classification Report: \\n\", Report)"
   ]
  },
  {
   "cell_type": "code",
   "execution_count": null,
   "metadata": {},
   "outputs": [],
   "source": []
  },
  {
   "cell_type": "markdown",
   "metadata": {},
   "source": [
    "### C. Random Forest"
   ]
  },
  {
   "cell_type": "code",
   "execution_count": 40,
   "metadata": {},
   "outputs": [
    {
     "name": "stdout",
     "output_type": "stream",
     "text": [
      "Confusion Matrix: \n",
      " [[6628  734]\n",
      " [ 175  699]]\n",
      "\n",
      "Accuracy of the model:  0.8896308887809616\n",
      "\n",
      "\n",
      "Classification Report:\n",
      "               precision    recall  f1-score   support\n",
      "\n",
      "         0.0       0.97      0.90      0.94      7362\n",
      "         1.0       0.49      0.80      0.61       874\n",
      "\n",
      "    accuracy                           0.89      8236\n",
      "   macro avg       0.73      0.85      0.77      8236\n",
      "weighted avg       0.92      0.89      0.90      8236\n",
      "\n"
     ]
    }
   ],
   "source": [
    "from sklearn.ensemble import RandomForestClassifier\n",
    "from sklearn.metrics import confusion_matrix, accuracy_score, classification_report\n",
    "\n",
    "model_DecisionTree = RandomForestClassifier(n_estimators=100,\n",
    "                                             random_state=10,\n",
    "                                             max_depth=10,\n",
    "                                             min_samples_leaf=5,\n",
    "                                             bootstrap=True)\n",
    "\n",
    "model_DecisionTree.fit(X_train_res, Y_train_res)\n",
    "Y_pred = model_DecisionTree.predict(X_test)\n",
    "\n",
    "cfm = confusion_matrix(Y_test, Y_pred)\n",
    "print(\"Confusion Matrix: \\n\", cfm)\n",
    "\n",
    "acc = accuracy_score(Y_test, Y_pred)\n",
    "print(\"\\nAccuracy of the model: \", acc)\n",
    "\n",
    "Report = classification_report(Y_test, Y_pred)\n",
    "print(\"\\n\\nClassification Report:\\n\", Report)"
   ]
  },
  {
   "cell_type": "markdown",
   "metadata": {},
   "source": [
    "<head>\n",
    "    <title>Metrics Summary</title> \n",
    "    <style>\n",
    "        table td {\n",
    "            text-align:center;\n",
    "        }\n",
    "    </style>\n",
    "</head>\n",
    "<body>\n",
    "    <table>\n",
    "        <thead>\n",
    "            <tr>\n",
    "                <th><u>Metrics</u></th>\n",
    "                <th><u>Classes</u></th>\n",
    "                <th>Base LogisticRegression</th>\n",
    "                <th>Base DecisionTree</th>\n",
    "                <th>Base RandomForest</th>\n",
    "                <th>LogReg using 0.6 threshold</th>\n",
    "                <th>Pruned DecisionTree</th>\n",
    "                <th>Pruned Random Forest</th>\n",
    "            </tr>\n",
    "        </thead>\n",
    "        <tbody>\n",
    "            <tr>\n",
    "                <td>Accuracy</td>\n",
    "                <td>-</td>\n",
    "                <td>84.17%</td>\n",
    "                <td>84.94</td>\n",
    "                <td>83.90%</td>\n",
    "                <td>83.86%</td>\n",
    "                <td>83.95%</td>\n",
    "                <td>83.68%</td>\n",
    "            </tr>\n",
    "            <tr>\n",
    "                <td>Precision</td>\n",
    "                <td>class 0</td>\n",
    "                <td>0.98</td>\n",
    "                <td>0.86</td>\n",
    "                <td>0.86</td>\n",
    "                <td>0.86</td>\n",
    "                <td>0.86</td>\n",
    "                <td>0.86</td>\n",
    "            </tr>\n",
    "            <tr>\n",
    "                <td>-</td>\n",
    "                <td>class 1</td>\n",
    "                <td>0.68</td>\n",
    "                <td>0.67</td>\n",
    "                <td>0.69</td>\n",
    "                <td>0.68</td>\n",
    "                <td>0.69</td>\n",
    "                <td>0.68</td>\n",
    "            </tr>\n",
    "            <tr>\n",
    "                <td>Recall</td>\n",
    "                <td>class 0</td>\n",
    "                <td>0.84</td>\n",
    "                <td>0.94</td>\n",
    "                <td>0.95</td>\n",
    "                <td>0.95</td>\n",
    "                <td>0.95</td>\n",
    "                <td>0.95</td>\n",
    "            </tr>\n",
    "            <tr>\n",
    "                <td>-</td>\n",
    "                <td>class 1</td>\n",
    "                <td>0.84</td>\n",
    "                <td>0.46</td>\n",
    "                <td>0.43</td>\n",
    "                <td>0.43</td>\n",
    "                <td>0.43</td>\n",
    "                <td>0.43</td>\n",
    "            </tr>\n",
    "            <tr>\n",
    "                <td>F1-Score</td>\n",
    "                <td>class 0</td>\n",
    "                <td>0.90</td>\n",
    "                <td>0.90</td>\n",
    "                <td>0.90</td>\n",
    "                <td>0.90</td>\n",
    "                <td>0.90</td>\n",
    "                <td>0.90</td>\n",
    "            </tr>\n",
    "            <tr>\n",
    "                <td>-</td>\n",
    "                <td>class 1</td>\n",
    "                <td>0.53</td>\n",
    "                <td>0.54</td>\n",
    "                <td>0.53</td>\n",
    "                <td>0.53</td>\n",
    "                <td>0.53</td>\n",
    "                <td>0.52</td>\n",
    "            </tr>\n",
    "        </tbody>\n",
    "    </table>\n",
    "</body>"
   ]
  },
  {
   "cell_type": "markdown",
   "metadata": {},
   "source": [
    "**We see that our pruned Random Forest model gives us the best metrics for class 1 and hence we will go ahead with its predictions**"
   ]
  },
  {
   "cell_type": "markdown",
   "metadata": {},
   "source": [
    "We see that our evaluation metrics are good. We will dump our predictions to an excel file."
   ]
  },
  {
   "cell_type": "code",
   "execution_count": 43,
   "metadata": {},
   "outputs": [],
   "source": [
    "# We will now dump our final_df to an excel file\n",
    "\n",
    "df_final.to_csv(\"Predictions.csv\")"
   ]
  },
  {
   "cell_type": "markdown",
   "metadata": {},
   "source": [
    "### ---------------------------------------------------------- END OF EXAM -----------------------------------------------------------------------------"
   ]
  }
 ],
 "metadata": {
  "kernelspec": {
   "display_name": "Python 3",
   "language": "python",
   "name": "python3"
  },
  "language_info": {
   "codemirror_mode": {
    "name": "ipython",
    "version": 3
   },
   "file_extension": ".py",
   "mimetype": "text/x-python",
   "name": "python",
   "nbconvert_exporter": "python",
   "pygments_lexer": "ipython3",
   "version": "3.7.6"
  }
 },
 "nbformat": 4,
 "nbformat_minor": 4
}
